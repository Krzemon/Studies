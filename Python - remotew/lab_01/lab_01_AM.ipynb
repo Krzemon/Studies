{
 "cells": [
  {
   "cell_type": "markdown",
   "metadata": {},
   "source": [
    "# Basic modules\n",
    "\n",
    "1. `numpy`: is a Python package for scientific computing. Provides multidimensional array objects and fast operations in arrays: [numpy](https://numpy.org/doc/stable/index.html)\n",
    "\n",
    "2. `Matplotlib`: is a Python 2D plotting library which produces publication quality figures in a variety of hardcopy formats and interactive environments across platforms: [matplotlib](http://matplotlib.org/index.html)"
   ]
  },
  {
   "cell_type": "markdown",
   "metadata": {},
   "source": [
    "# Python basics"
   ]
  },
  {
   "cell_type": "code",
   "execution_count": 1,
   "metadata": {},
   "outputs": [
    {
     "name": "stdout",
     "output_type": "stream",
     "text": [
      "Hi on 1st class!\n"
     ]
    }
   ],
   "source": [
    "print('Hi on 1st class!')"
   ]
  },
  {
   "cell_type": "markdown",
   "metadata": {},
   "source": [
    "Variables"
   ]
  },
  {
   "cell_type": "code",
   "execution_count": 2,
   "metadata": {},
   "outputs": [
    {
     "name": "stdout",
     "output_type": "stream",
     "text": [
      "Hi Anna, it's 1st image processing class!\n"
     ]
    }
   ],
   "source": [
    "name = 'Anna'\n",
    "number = 1\n",
    "course = 'image processing'\n",
    "\n",
    "text = f'Hi {name}, it\\'s {number}st {course} class!'\n",
    "print(text)"
   ]
  },
  {
   "cell_type": "markdown",
   "metadata": {},
   "source": [
    "Numbers and basic mathematical operations"
   ]
  },
  {
   "cell_type": "code",
   "execution_count": 8,
   "metadata": {},
   "outputs": [
    {
     "name": "stdout",
     "output_type": "stream",
     "text": [
      "result of addition 667\n",
      "result of subtraction 619\n",
      "result of multiplication 15432\n",
      "result of division 26.791666666666668\n"
     ]
    }
   ],
   "source": [
    "n1 = 643\n",
    "n2 = 24\n",
    "\n",
    "add_1 = n1 + n2\n",
    "print('result of addition', add_1)\n",
    "\n",
    "sub_1 = n1 - n2\n",
    "print('result of subtraction', sub_1)\n",
    "\n",
    "multi_1 = n1 * n2\n",
    "print('result of multiplication', multi_1)\n",
    "\n",
    "divi_1 = n1 / n2\n",
    "print('result of division', divi_1)"
   ]
  },
  {
   "cell_type": "markdown",
   "metadata": {},
   "source": [
    "# `numpy` basics"
   ]
  },
  {
   "cell_type": "code",
   "execution_count": 4,
   "metadata": {},
   "outputs": [],
   "source": [
    "# import modules\n",
    "import numpy as np"
   ]
  },
  {
   "cell_type": "markdown",
   "metadata": {},
   "source": [
    "Mathematical operations by `numpy`"
   ]
  },
  {
   "cell_type": "code",
   "execution_count": 9,
   "metadata": {},
   "outputs": [
    {
     "name": "stdout",
     "output_type": "stream",
     "text": [
      "result of numpy addition 667\n",
      "result of numpy subtraction 619\n",
      "result of numpy multiplication 15432\n",
      "result of numpy division 26.791666666666668\n"
     ]
    }
   ],
   "source": [
    "add_2 = np.add(n1, n2)\n",
    "print('result of numpy addition', add_2)\n",
    "\n",
    "sub_2 = np.subtract(n1, n2)\n",
    "print('result of numpy subtraction', sub_2)\n",
    "\n",
    "multi_2 = np.multiply(n1, n2)\n",
    "print('result of numpy multiplication', multi_2)\n",
    "\n",
    "divi_2 = np.divide(n1, n2)\n",
    "print('result of numpy division', divi_2)"
   ]
  },
  {
   "cell_type": "markdown",
   "metadata": {},
   "source": [
    "Creating 2-dimensional `numpy` array  "
   ]
  },
  {
   "cell_type": "code",
   "execution_count": 10,
   "metadata": {},
   "outputs": [
    {
     "name": "stdout",
     "output_type": "stream",
     "text": [
      "[[ 1  2  3  4]\n",
      " [11 12 13 14]\n",
      " [21 22 23 24]]\n"
     ]
    }
   ],
   "source": [
    "ar1 = np.array([[1,2,3,4], [11,12,13,14], [21,22,23,24]])\n",
    "print(ar1)"
   ]
  },
  {
   "cell_type": "markdown",
   "metadata": {},
   "source": [
    "  > function `np.arange(start, stop, step)`   \n",
    "  > where `step = 1` - default"
   ]
  },
  {
   "cell_type": "code",
   "execution_count": 20,
   "metadata": {},
   "outputs": [
    {
     "name": "stdout",
     "output_type": "stream",
     "text": [
      "[[ 0  1  2  3]\n",
      " [ 4  5  6  7]\n",
      " [ 8  9 10 11]\n",
      " [12 13 14 15]]\n"
     ]
    }
   ],
   "source": [
    "ar2 = np.arange(4*4).reshape(4,4)\n",
    "print(ar2)"
   ]
  },
  {
   "cell_type": "code",
   "execution_count": 24,
   "metadata": {},
   "outputs": [
    {
     "name": "stdout",
     "output_type": "stream",
     "text": [
      "[[ 1  4  7 10]\n",
      " [13 16 19 22]\n",
      " [25 28 31 34]]\n"
     ]
    }
   ],
   "source": [
    "ar3 = np.arange(1,35,3).reshape(3,4)\n",
    "print(ar3)"
   ]
  },
  {
   "cell_type": "markdown",
   "metadata": {},
   "source": [
    "> function `np.random.randint(start,stop,shape)`"
   ]
  },
  {
   "cell_type": "code",
   "execution_count": 36,
   "metadata": {},
   "outputs": [
    {
     "name": "stdout",
     "output_type": "stream",
     "text": [
      "[[28  1 17 51]\n",
      " [57 62 10 25]\n",
      " [79 66 64 60]\n",
      " [96  0 44 94]]\n"
     ]
    }
   ],
   "source": [
    "ar4 = np.random.randint(0,100, (4,4))\n",
    "print(ar4)\n"
   ]
  },
  {
   "cell_type": "markdown",
   "metadata": {},
   "source": [
    "`Exercise:`\n",
    "- `Create two numpay arrays (eg. 5x5) and make basic mathematical operations` \n",
    "- `Find (in the documnetation) and use 3 other numpy mathematical methods`\n",
    "- `Try with two arrays with different sizes - what happend?`"
   ]
  },
  {
   "cell_type": "code",
   "execution_count": 33,
   "metadata": {},
   "outputs": [
    {
     "name": "stdout",
     "output_type": "stream",
     "text": [
      "[[70 31 29 31]\n",
      " [66 98 55 46]\n",
      " [90 79 99 55]\n",
      " [73 34 52 62]]\n",
      "[[32  6  8 13]\n",
      " [35 19 42 45]\n",
      " [12 22 31 44]\n",
      " [27  5 31 19]]\n"
     ]
    }
   ],
   "source": [
    "array1 = np.random.randint(0,100, (4,4))\n",
    "array2 = np.random.randint(0,50, (4,4))\n",
    "print(array1)\n",
    "print(array2)"
   ]
  },
  {
   "cell_type": "code",
   "execution_count": 34,
   "metadata": {},
   "outputs": [
    {
     "name": "stdout",
     "output_type": "stream",
     "text": [
      "[[102  37  37  44]\n",
      " [101 117  97  91]\n",
      " [102 101 130  99]\n",
      " [100  39  83  81]]\n"
     ]
    }
   ],
   "source": [
    "add_1_ar = np.add(array1, array2)\n",
    "print(add_1_ar)"
   ]
  },
  {
   "cell_type": "markdown",
   "metadata": {},
   "source": [
    "`numpy` array creating function"
   ]
  },
  {
   "cell_type": "code",
   "execution_count": 5,
   "metadata": {},
   "outputs": [
    {
     "data": {
      "text/plain": [
       "array([[1., 0., 0., 0., 0., 0.],\n",
       "       [0., 1., 0., 0., 0., 0.],\n",
       "       [0., 0., 1., 0., 0., 0.],\n",
       "       [0., 0., 0., 1., 0., 0.]])"
      ]
     },
     "execution_count": 5,
     "metadata": {},
     "output_type": "execute_result"
    }
   ],
   "source": [
    "np.eye(4)\n",
    "np.eye(4,6)"
   ]
  },
  {
   "cell_type": "code",
   "execution_count": 13,
   "metadata": {},
   "outputs": [
    {
     "data": {
      "text/plain": [
       "array([[2, 0, 0, 0],\n",
       "       [0, 4, 0, 0],\n",
       "       [0, 0, 5, 0],\n",
       "       [0, 0, 0, 6]])"
      ]
     },
     "execution_count": 13,
     "metadata": {},
     "output_type": "execute_result"
    }
   ],
   "source": [
    "np.diag([2,4,5,6])"
   ]
  },
  {
   "cell_type": "code",
   "execution_count": 15,
   "metadata": {},
   "outputs": [
    {
     "data": {
      "text/plain": [
       "array([[0., 0., 0., 0., 0., 0.],\n",
       "       [0., 0., 0., 0., 0., 0.],\n",
       "       [0., 0., 0., 0., 0., 0.],\n",
       "       [0., 0., 0., 0., 0., 0.],\n",
       "       [0., 0., 0., 0., 0., 0.]])"
      ]
     },
     "execution_count": 15,
     "metadata": {},
     "output_type": "execute_result"
    }
   ],
   "source": [
    "np.zeros((5,6))"
   ]
  },
  {
   "cell_type": "code",
   "execution_count": 18,
   "metadata": {},
   "outputs": [
    {
     "data": {
      "text/plain": [
       "array([[1., 1., 1.],\n",
       "       [1., 1., 1.]])"
      ]
     },
     "execution_count": 18,
     "metadata": {},
     "output_type": "execute_result"
    }
   ],
   "source": [
    "np.ones((2,3))"
   ]
  },
  {
   "cell_type": "markdown",
   "metadata": {},
   "source": [
    "array's characteristics"
   ]
  },
  {
   "cell_type": "code",
   "execution_count": 55,
   "metadata": {},
   "outputs": [
    {
     "name": "stdout",
     "output_type": "stream",
     "text": [
      "[[77 34 67 19]\n",
      " [67 38 18  3]\n",
      " [12 63 65 32]]\n",
      "(3, 4)\n",
      "2\n",
      "12\n",
      "int64\n",
      "<class 'numpy.ndarray'>\n",
      "3 77\n",
      "[12 34 18  3]\n",
      "495\n"
     ]
    }
   ],
   "source": [
    "arr = np.random.randint(1,78, (3,4))\n",
    "print(arr)\n",
    "print(arr.shape)\n",
    "print(arr.ndim)\n",
    "print(arr.size)\n",
    "print(arr.dtype)\n",
    "print(type(arr))\n",
    "print(arr.min(), arr.max())\n",
    "print(arr.min(axis=0))\n",
    "print(arr.sum())\n"
   ]
  },
  {
   "cell_type": "markdown",
   "metadata": {},
   "source": [
    "# `numpy` array indexing"
   ]
  },
  {
   "cell_type": "markdown",
   "metadata": {},
   "source": [
    "## By index\n",
    "\n",
    "Selecting array elements by specifying indexes:\n",
    "   \n",
    "   - selection principle:\n",
    "     - first, indexes of rows are given, then indexes of columns\n",
    "     - indexes are given by: [start, stop, step, start, stop, step]\n",
    "   - examples of row and column selection:"
   ]
  },
  {
   "cell_type": "code",
   "execution_count": 7,
   "metadata": {},
   "outputs": [
    {
     "name": "stdout",
     "output_type": "stream",
     "text": [
      "x.shape (rows,cols): (3, 6),\n",
      "\n",
      "x:\n",
      "[[ 0  1  2  3  4  5]\n",
      " [ 6  7  8  9 10 11]\n",
      " [12 13 14 15 16 17]]\n"
     ]
    }
   ],
   "source": [
    "x = np.arange(3*6).reshape(3,6)\n",
    "print(f'x.shape (rows,cols): {x.shape},\\n\\nx:\\n{x}')"
   ]
  },
  {
   "cell_type": "code",
   "execution_count": 10,
   "metadata": {},
   "outputs": [
    {
     "name": "stdout",
     "output_type": "stream",
     "text": [
      "1. All rows and all columns:\n",
      "[[ 0  1  2  3  4  5]\n",
      " [ 6  7  8  9 10 11]\n",
      " [12 13 14 15 16 17]]\n",
      "\n",
      "2. First row and all columns:\n",
      "[0 1 2 3 4 5]\n",
      "\n",
      "3. The last two rows and the last two columns:\n",
      "[[10 11]\n",
      " [16 17]]\n",
      "\n",
      "or:\n",
      "[[10 11]\n",
      " [16 17]] \n",
      "\n"
     ]
    }
   ],
   "source": [
    "# select all rows (':' character) and all columns (':' character)\n",
    "print(f'1. All rows and all columns:\\n{x[:,:]}\\n')\n",
    "\n",
    "# select first row (index 0) and all columns (the sign ':')\n",
    "print(f'2. First row and all columns:\\n{x[0,:]}\\n')\n",
    "\n",
    "#select the last two rows and the last two columns\n",
    "print(f'3. The last two rows and the last two columns:\\n{x[1:,4:]}\\n\\nor:')\n",
    "\n",
    "# or\n",
    "print(x[-2:,-2:],'\\n')"
   ]
  },
  {
   "cell_type": "code",
   "execution_count": 46,
   "metadata": {},
   "outputs": [
    {
     "name": "stdout",
     "output_type": "stream",
     "text": [
      "[[ 0  3]\n",
      " [12 15]] \n",
      "\n",
      "[[ 0  3]\n",
      " [12 15]] \n",
      "\n"
     ]
    }
   ],
   "source": [
    "# select every second row and every third column\n",
    "print(x[0:3:2,0:6:3],'\\n') \n",
    "\n",
    "# or\n",
    "print(x[::2,::3],'\\n') "
   ]
  },
  {
   "cell_type": "markdown",
   "metadata": {},
   "source": [
    "## By conditions\n",
    "Selecting items by logical conditions"
   ]
  },
  {
   "cell_type": "code",
   "execution_count": 47,
   "metadata": {},
   "outputs": [
    {
     "name": "stdout",
     "output_type": "stream",
     "text": [
      "select items larger than 10\n",
      "[11 12 13 14 15 16 17]\n",
      "\n",
      "\n",
      "select items larger than 8 and smaller than 15\n",
      "[ 9 10 11 12 13 14]\n"
     ]
    }
   ],
   "source": [
    "s ='select items larger than 10'\n",
    "print(s,x[x>10],'\\n',sep='\\n')\n",
    "\n",
    "s = 'select items larger than 8 and smaller than 15'\n",
    "print(s,x[(x>8) & (x<15)],sep='\\n')"
   ]
  },
  {
   "cell_type": "markdown",
   "metadata": {},
   "source": [
    "## New values\n",
    "\n",
    "Assigning new values to array cells selected based on a logical condition\n"
   ]
  },
  {
   "cell_type": "code",
   "execution_count": 48,
   "metadata": {},
   "outputs": [
    {
     "name": "stdout",
     "output_type": "stream",
     "text": [
      "oryginal:\n",
      "[[ 0  1  2  3  4  5]\n",
      " [ 6  7  8  9 10 11]\n",
      " [12 13 14 15 16 17]]\n",
      "\n",
      "Replace less than 6 with 99:\n",
      "[[99 99 99 99 99 99]\n",
      " [ 6  7  8  9 10 11]\n",
      " [12 13 14 15 16 17]]\n",
      "\n",
      "Replace larger than 9 and smaller than 15 with 1000\n",
      "[[  0   1   2   3   4   5]\n",
      " [  6   7   8   9 100 100]\n",
      " [100 100 100  15  16  17]]\n"
     ]
    }
   ],
   "source": [
    "s1 = 'Replace less than 6 with 99'\n",
    "x1 = x.copy()\n",
    "x1[x<6] = 99\n",
    "\n",
    "s2 = 'Replace larger than 9 and smaller than 15 with 1000'\n",
    "x2 = x.copy()\n",
    "x2[(x2>9) & (x2<15)] = 100\n",
    "\n",
    "print(f'oryginal:\\n{x}\\n\\n{s1}:\\n{x1}\\n\\n{s2}\\n{x2}')"
   ]
  }
 ],
 "metadata": {
  "kernelspec": {
   "display_name": "Python 3 (ipykernel)",
   "language": "python",
   "name": "python3"
  },
  "language_info": {
   "codemirror_mode": {
    "name": "ipython",
    "version": 3
   },
   "file_extension": ".py",
   "mimetype": "text/x-python",
   "name": "python",
   "nbconvert_exporter": "python",
   "pygments_lexer": "ipython3",
   "version": "3.12.2"
  }
 },
 "nbformat": 4,
 "nbformat_minor": 2
}
