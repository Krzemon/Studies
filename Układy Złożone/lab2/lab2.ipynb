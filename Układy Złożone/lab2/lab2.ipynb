{
 "cells": [
  {
   "cell_type": "code",
   "execution_count": 1,
   "id": "40d84afa",
   "metadata": {},
   "outputs": [],
   "source": [
    "import numpy as np\n",
    "import matplotlib.pyplot as plt\n",
    "import time"
   ]
  },
  {
   "cell_type": "code",
   "execution_count": 2,
   "id": "0a9a2e3a-fbbf-4308-8eeb-3c8d693a67ac",
   "metadata": {},
   "outputs": [],
   "source": [
    "# automata playground\n",
    "N = 60     # size of the playground\n",
    "S = [3, 5, 6, 7, 8]    # Set of Survive rules\n",
    "B = [4, 6, 7, 8] # Set of Born rules\n",
    "\n",
    "automata = np.zeros((N, N))\n",
    "automataNeighbours = np.zeros((N,N))"
   ]
  },
  {
   "cell_type": "code",
   "execution_count": 3,
   "id": "d0ba7a98-64b9-47c3-8c4c-b5ad2da4e3e0",
   "metadata": {},
   "outputs": [],
   "source": [
    "def AutomataStep():\n",
    "    automataNeighbours[0:N][0:N] = 0\n",
    "    for i in range(N):\n",
    "        for j in range(N):\n",
    "            automataNeighbours[i][j] += automata[i-1][j-1]\n",
    "            automataNeighbours[i][j] += automata[i-1][j]\n",
    "            automataNeighbours[i][j] += automata[i-1][(j+1)%N]\n",
    "            automataNeighbours[i][j] += automata[i][j-1]\n",
    "            automataNeighbours[i][j] += automata[i][(j+1)%N]\n",
    "            automataNeighbours[i][j] += automata[(i+1)%N][j-1]\n",
    "            automataNeighbours[i][j] += automata[(i+1)%N][j]\n",
    "            automataNeighbours[i][j] += automata[(i+1)%N][(j+1)%N]\n",
    "    for i in range(N):\n",
    "        for j in range(N):\n",
    "            if automata[i][j] == 0 and automataNeighbours[i][j] in B:\n",
    "                automata[i][j] = 1\n",
    "                continue\n",
    "            if automata[i][j] == 1 and automataNeighbours[i][j] in S:\n",
    "                continue\n",
    "            automata[i][j] = 0"
   ]
  },
  {
   "cell_type": "code",
   "execution_count": 5,
   "id": "8bfb45ad",
   "metadata": {},
   "outputs": [
    {
     "data": {
      "image/png": "[encoded data removed]",
      "text/plain": [
       "<Figure size 640x480 with 1 Axes>"
      ]
     },
     "metadata": {},
     "output_type": "display_data"
    },
    {
     "data": {
      "image/png": "[encoded data removed]",
      "text/plain": [
       "<Figure size 640x480 with 1 Axes>"
      ]
     },
     "metadata": {},
     "output_type": "display_data"
    },
    {
     "data": {
      "image/png": "[encoded data removed]",
      "text/plain": [
       "<Figure size 640x480 with 1 Axes>"
      ]
     },
     "metadata": {},
     "output_type": "display_data"
    }
   ],
   "source": [
    "for gif in range(3):\n",
    "    # Entry state\n",
    "    for i in range(N):\n",
    "        for j in range(N):\n",
    "            automata[i][j] = np.random.randint(0,2)\n",
    "\n",
    "    # print(automata)\n",
    "\n",
    "    # Make gif\n",
    "    import matplotlib.animation as animation\n",
    "\n",
    "    fig, ax = plt.subplots()\n",
    "\n",
    "    im = ax.imshow(automata, cmap='gray')\n",
    "\n",
    "    ax.set_xticks([])\n",
    "    ax.set_yticks([])\n",
    "    plt.rcParams[\"axes.edgecolor\"] = \"black\"\n",
    "    plt.rcParams[\"axes.linewidth\"] = 1\n",
    "\n",
    "    plt.savefig(f'automata{gif}_start.png')\n",
    "\n",
    "    def animate(i):\n",
    "        AutomataStep()\n",
    "        im.set_data(automata)\n",
    "        ax.set_title(f'step = {i}')\n",
    "        return im,\n",
    "\n",
    "    frames = 100\n",
    "\n",
    "    ani = animation.FuncAnimation(fig, animate, repeat=False, frames=frames, interval=50)\n",
    "\n",
    "    # save animation\n",
    "    writer = animation.PillowWriter(fps=6,\n",
    "                                    metadata=dict(artist='Me'),\n",
    "                                    bitrate=1800)\n",
    "    ani.save(f'automata{gif}.gif', writer=writer)"
   ]
  },
  {
   "cell_type": "code",
   "execution_count": null,
   "id": "947e5d2a",
   "metadata": {},
   "outputs": [],
   "source": []
  },
  {
   "cell_type": "code",
   "execution_count": null,
   "id": "94537a4a",
   "metadata": {},
   "outputs": [],
   "source": []
  }
 ],
 "metadata": {
  "kernelspec": {
   "display_name": "Python 3 (ipykernel)",
   "language": "python",
   "name": "python3"
  },
  "language_info": {
   "codemirror_mode": {
    "name": "ipython",
    "version": 3
   },
   "file_extension": ".py",
   "mimetype": "text/x-python",
   "name": "python",
   "nbconvert_exporter": "python",
   "pygments_lexer": "ipython3",
   "version": "3.12.2"
  }
 },
 "nbformat": 4,
 "nbformat_minor": 5
}
