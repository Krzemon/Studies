{
 "cells": [
  {
   "cell_type": "markdown",
   "id": "4ea2eda4",
   "metadata": {},
   "source": [
    "# Zadanie 3"
   ]
  },
  {
   "cell_type": "code",
   "execution_count": 1,
   "id": "1b372e56",
   "metadata": {},
   "outputs": [],
   "source": [
    "import numba as nb\n",
    "import numpy as np\n",
    "import matplotlib.pyplot as plt\n",
    "import math"
   ]
  },
  {
   "cell_type": "code",
   "execution_count": 2,
   "id": "9683ad63",
   "metadata": {},
   "outputs": [],
   "source": [
    "L = 100.0 / 0.05292\n",
    "m = 0.067\n",
    "h_bar = 1.0\n",
    "to_meV = 27211.6\n",
    "\n",
    "N = 300\n",
    "dx = L/N"
   ]
  },
  {
   "cell_type": "code",
   "execution_count": 14,
   "id": "16bdc15d",
   "metadata": {},
   "outputs": [],
   "source": [
    "@nb.njit\n",
    "def f(E,N,dx):\n",
    "    psi = np.zeros(N + 1)\n",
    "    psi[0] = 0\n",
    "    psi[1] = 1\n",
    "    V = 0\n",
    "    for i in range(1, N):\n",
    "        psi[i + 1] = -2 * m * (E - V) * dx**2 * psi[i] - psi[i - 1] + 2 * psi[i]\n",
    "    return psi[-1]\n",
    "\n",
    "@nb.njit\n",
    "def bisection(a, b, acc, N, dx, V):\n",
    "    while abs(a - b) > acc:\n",
    "        mid = 0.5 * (a + b)\n",
    "        if f(a/to_meV ,N,dx) * f(mid/to_meV ,N,dx) < 0:\n",
    "            b = mid\n",
    "        else:\n",
    "            a = mid\n",
    "    return b"
   ]
  },
  {
   "cell_type": "code",
   "execution_count": 10,
   "id": "b223b7c7",
   "metadata": {},
   "outputs": [],
   "source": [
    "W_size = 500\n",
    "E_size = 500\n",
    "C = np.zeros((W_size, E_size))\n",
    "W = np.linspace(0, 1000, W_size) / to_meV\n",
    "E = np.linspace(0, 35, E_size) / to_meV\n",
    "psi = np.zeros((W_size, E_size, N+1))\n",
    "psi[..., 1] = 1"
   ]
  },
  {
   "cell_type": "code",
   "execution_count": 11,
   "id": "55a423a4",
   "metadata": {},
   "outputs": [],
   "source": [
    "# Funkcja do obliczania wartości funkcji falowej w punkcie i+1\n",
    "def Psi(psi_i, psi_im1, E, V):\n",
    "    return -2 * m / np.square(h_bar) * (E - V) * np.square(dx) * psi_i + 2 * psi_i - psi_im1"
   ]
  },
  {
   "cell_type": "code",
   "execution_count": 12,
   "id": "3f559fc1",
   "metadata": {},
   "outputs": [],
   "source": [
    "for k in range(W_size): \n",
    "    for j in range(E_size):\n",
    "        for i in range(1, N):\n",
    "            if i == int(N/2):\n",
    "                V = -W[k]\n",
    "                psi[k][j][i+1] = Psi(psi[k][j][i], psi[k][j][i-1], E[j], V)\n",
    "            else:\n",
    "                V = 0\n",
    "                psi[k][j][i+1] = Psi(psi[k][j][i], psi[k][j][i-1], E[j], V)\n",
    "\n",
    "for k in range(W_size):\n",
    "    for j in range(E_size):\n",
    "        for i in range(N+1):\n",
    "            C[k][j] += dx*psi[k][j][i]**2\n",
    "\n",
    "for k in range(W_size):\n",
    "    for j in range(E_size):\n",
    "        for i in range(N+1):\n",
    "            psi[k][j][i] = psi[k][j][i]/np.sqrt(C[k][j])\n",
    "\n",
    "W *= 27211.6\n",
    "E *= 27211.6"
   ]
  },
  {
   "cell_type": "code",
   "execution_count": 27,
   "id": "0d259735",
   "metadata": {},
   "outputs": [],
   "source": [
    "acc = 1e-4\n",
    "results = np.zeros((500, 7))"
   ]
  },
  {
   "cell_type": "code",
   "execution_count": null,
   "id": "506b1db0",
   "metadata": {},
   "outputs": [],
   "source": []
  },
  {
   "cell_type": "code",
   "execution_count": null,
   "id": "9ce53e2c",
   "metadata": {},
   "outputs": [],
   "source": []
  },
  {
   "cell_type": "code",
   "execution_count": 31,
   "id": "de772da5",
   "metadata": {},
   "outputs": [],
   "source": [
    "# Pętla do obliczania wartości W\n",
    "for i in range(len(W)):\n",
    "    a_1 = np.array([0, 20, 60, 125, 180, 275, 380])\n",
    "    b_1 = np.array([30, 40, 120, 150, 250, 320, 480])\n",
    "    \n",
    "    for j in range(a_1.size):\n",
    "        E_left = E[a_1[j]]\n",
    "        E_right = E[b_1[j]]\n",
    "        V = -W[i]\n",
    "        # Wywołanie funkcji bisection\n",
    "        results[i][j] = bisection(E_left, E_right, 1e-4, N, dx, V)"
   ]
  },
  {
   "cell_type": "code",
   "execution_count": 32,
   "id": "870a68b6",
   "metadata": {},
   "outputs": [
    {
     "data": {
      "image/png": "[encoded data removed]",
      "text/plain": [
       "<Figure size 640x480 with 1 Axes>"
      ]
     },
     "metadata": {},
     "output_type": "display_data"
    }
   ],
   "source": [
    "for j in range(7):\n",
    "    plt.plot(W, results[:, j], label=f'E{j + 1}')\n",
    "\n",
    "plt.xlabel(\"W [meV]\")\n",
    "plt.ylabel(\"E [meV]\")\n",
    "plt.xlim(0, 1000)\n",
    "plt.ylim(0, 35)\n",
    "plt.grid()\n",
    "plt.legend()\n",
    "plt.show()"
   ]
  },
  {
   "cell_type": "code",
   "execution_count": 65,
   "id": "7202fc83",
   "metadata": {},
   "outputs": [],
   "source": [
    "N = 300 # ilość punktów\n",
    "W_size = 500\n",
    "E_size = 500\n",
    "C = np.zeros((W_size, E_size)) # stała skalująca funkcję falową\n",
    "W = np.linspace(0, 1500, W_size) / 27211.6 # bariera potencjału\n",
    "E_3 = np.linspace(0, 35, E_size) / 27211.6\n",
    "dx = L/N\n",
    "psi_3 = np.zeros((W_size, E_size, N+1))\n",
    "psi_3[..., 1] = 1"
   ]
  },
  {
   "cell_type": "code",
   "execution_count": 66,
   "id": "89e2fe5d",
   "metadata": {},
   "outputs": [],
   "source": [
    "# Narysować funkcje falowe 5 najniższych stanów dla W = 0.5 eV\n",
    "W_1 = 500/27211.6\n",
    "E_32size = 50000\n",
    "E_32 = np.linspace(0, 35, E_32size) / 27211.6\n",
    "C_32 = np.zeros(len(E_32))\n",
    "psi_32 = np.zeros((len(E_32), N+1)) \n",
    "psi_32[..., 1] = 1"
   ]
  },
  {
   "cell_type": "code",
   "execution_count": 67,
   "id": "da28dc1a",
   "metadata": {},
   "outputs": [],
   "source": [
    "for j in range(E_32size): # pętla po 5 miejscach zerowych E\n",
    "    for i in range(1, N): # pętla po x\n",
    "        if i == int(N/2):\n",
    "            V = W_1\n",
    "            psi_32[j][i+1] = -(2*m/(h_bar**2))*(E_32[j]-V)*(dx**2)*psi_32[j][i] - \\\n",
    "                            psi_32[j][i-1] + 2*psi_32[j][i]\n",
    "        else:\n",
    "            V = 0\n",
    "            psi_32[j][i+1] = -(2*m/(h_bar**2))*(E_32[j]-V)*(dx**2)*psi_32[j][i] - \\\n",
    "                            psi_32[j][i-1] + 2*psi_32[j][i]\n",
    "\n",
    "    for i in range(N+1): # Stała C\n",
    "        C_32[j] += dx*psi_32[j][i]**2\n",
    "\n",
    "    for i in range(N+1): # Normowanie\n",
    "        psi_32[j][i] = psi_32[j][i]/np.sqrt(C_32[j])\n",
    "\n",
    "E_32 *= 27211.6"
   ]
  },
  {
   "cell_type": "code",
   "execution_count": 68,
   "id": "2b48f8ce",
   "metadata": {},
   "outputs": [],
   "source": [
    "acc = 0.001 # meV (27211.6)\n",
    "a_32 = np.array([2450, 3100, 10000, 12500, 23500]) #indeksy tablicy 'E', które osaczają miejsca zerowe dla size=50k\n",
    "b_32 = np.array([2550, 3300, 10500, 13000, 24100])\n",
    "m_tmp_32 = np.zeros(len(a_32))"
   ]
  },
  {
   "cell_type": "code",
   "execution_count": 69,
   "id": "789e3897",
   "metadata": {},
   "outputs": [
    {
     "ename": "IndexError",
     "evalue": "index 2450 is out of bounds for axis 0 with size 500",
     "output_type": "error",
     "traceback": [
      "\u001b[0;31m---------------------------------------------------------------------------\u001b[0m",
      "\u001b[0;31mIndexError\u001b[0m                                Traceback (most recent call last)",
      "Cell \u001b[0;32mIn[69], line 2\u001b[0m\n\u001b[1;32m      1\u001b[0m \u001b[38;5;28;01mfor\u001b[39;00m \u001b[38;5;28mid\u001b[39m, a32 \u001b[38;5;129;01min\u001b[39;00m \u001b[38;5;28menumerate\u001b[39m(a_32):\n\u001b[0;32m----> 2\u001b[0m     \u001b[38;5;28;01mwhile\u001b[39;00m \u001b[38;5;28mabs\u001b[39m(\u001b[43mE\u001b[49m\u001b[43m[\u001b[49m\u001b[38;5;28;43mint\u001b[39;49m\u001b[43m(\u001b[49m\u001b[43ma32\u001b[49m\u001b[43m)\u001b[49m\u001b[43m]\u001b[49m \u001b[38;5;241m-\u001b[39m E[\u001b[38;5;28mint\u001b[39m(b_32[\u001b[38;5;28mid\u001b[39m])]) \u001b[38;5;241m>\u001b[39m acc:\n\u001b[1;32m      3\u001b[0m         m_tmp_32[\u001b[38;5;28mid\u001b[39m] \u001b[38;5;241m=\u001b[39m \u001b[38;5;241m0.5\u001b[39m\u001b[38;5;241m*\u001b[39m(a32\u001b[38;5;241m+\u001b[39mb_32[\u001b[38;5;28mid\u001b[39m])\n\u001b[1;32m      5\u001b[0m         \u001b[38;5;28;01mif\u001b[39;00m psi_32[\u001b[38;5;28mint\u001b[39m(a32), \u001b[38;5;241m-\u001b[39m\u001b[38;5;241m1\u001b[39m]\u001b[38;5;241m*\u001b[39mpsi_32[\u001b[38;5;28mint\u001b[39m(m_tmp_32[\u001b[38;5;28mid\u001b[39m]), \u001b[38;5;241m-\u001b[39m\u001b[38;5;241m1\u001b[39m] \u001b[38;5;241m<\u001b[39m \u001b[38;5;241m0\u001b[39m:\n",
      "\u001b[0;31mIndexError\u001b[0m: index 2450 is out of bounds for axis 0 with size 500"
     ]
    }
   ],
   "source": [
    "for id, a32 in enumerate(a_32):\n",
    "    while abs(E[int(a32)] - E[int(b_32[id])]) > acc:\n",
    "        m_tmp_32[id] = 0.5*(a32+b_32[id])\n",
    "        \n",
    "        if psi_32[int(a32), -1]*psi_32[int(m_tmp_32[id]), -1] < 0:\n",
    "            b_32[id] = m_tmp_32[id]\n",
    "        if psi_32[int(b_32[id]), -1]*psi_32[int(m_tmp_32[id]), -1] < 0:\n",
    "            a32 = m_tmp_32[id]"
   ]
  },
  {
   "cell_type": "code",
   "execution_count": null,
   "id": "ff2f1547",
   "metadata": {},
   "outputs": [],
   "source": []
  },
  {
   "cell_type": "code",
   "execution_count": null,
   "id": "849e4d62",
   "metadata": {},
   "outputs": [],
   "source": []
  },
  {
   "cell_type": "code",
   "execution_count": null,
   "id": "63531ef1",
   "metadata": {},
   "outputs": [],
   "source": []
  },
  {
   "cell_type": "code",
   "execution_count": null,
   "id": "f74a626c",
   "metadata": {},
   "outputs": [],
   "source": []
  },
  {
   "cell_type": "code",
   "execution_count": null,
   "id": "58155578",
   "metadata": {},
   "outputs": [],
   "source": []
  },
  {
   "cell_type": "code",
   "execution_count": null,
   "id": "aeb003b4",
   "metadata": {},
   "outputs": [],
   "source": []
  }
 ],
 "metadata": {
  "kernelspec": {
   "display_name": "Python 3 (ipykernel)",
   "language": "python",
   "name": "python3"
  },
  "language_info": {
   "codemirror_mode": {
    "name": "ipython",
    "version": 3
   },
   "file_extension": ".py",
   "mimetype": "text/x-python",
   "name": "python",
   "nbconvert_exporter": "python",
   "pygments_lexer": "ipython3",
   "version": "3.11.5"
  }
 },
 "nbformat": 4,
 "nbformat_minor": 5
}
