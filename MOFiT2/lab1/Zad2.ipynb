{
 "cells": [
  {
   "cell_type": "markdown",
   "id": "fb2c226a",
   "metadata": {},
   "source": [
    "# Zadanie 2"
   ]
  },
  {
   "cell_type": "code",
   "execution_count": 1,
   "id": "b756e013",
   "metadata": {},
   "outputs": [],
   "source": [
    "import numba as nb\n",
    "import numpy as np\n",
    "import matplotlib.pyplot as plt\n",
    "import math"
   ]
  },
  {
   "cell_type": "code",
   "execution_count": 2,
   "id": "b2d98491",
   "metadata": {},
   "outputs": [],
   "source": [
    "L = 100.0 / 0.05292\n",
    "m = 0.067\n",
    "h_bar = 1.0\n",
    "to_meV = 27211.6"
   ]
  },
  {
   "cell_type": "code",
   "execution_count": 3,
   "id": "b2706f5a",
   "metadata": {},
   "outputs": [],
   "source": [
    "@nb.njit\n",
    "def f(E,N,dx):\n",
    "    psi = np.zeros(N + 1)\n",
    "    psi[0] = 0\n",
    "    psi[1] = 1\n",
    "    V = 0\n",
    "    for i in range(1, N):\n",
    "        psi[i + 1] = -2 * m * (E - V) * dx**2 * psi[i] - psi[i - 1] + 2 * psi[i]\n",
    "    return psi[-1]\n",
    "\n",
    "@nb.njit\n",
    "def bisection(a, b, acc, N, dx):\n",
    "    while abs(a - b) > acc:\n",
    "        mid = 0.5 * (a + b)\n",
    "        if f(a/to_meV ,N,dx) * f(mid/to_meV ,N,dx) < 0:\n",
    "            b = mid\n",
    "        else:\n",
    "            a = mid\n",
    "    return b"
   ]
  },
  {
   "cell_type": "code",
   "execution_count": 4,
   "id": "aca32342",
   "metadata": {},
   "outputs": [],
   "source": [
    "# Zakres energii od 0 do 35 meV\n",
    "E_min = 0.0\n",
    "E_max = 35.0\n",
    "\n",
    "# Generowanie tablicy energii\n",
    "E_size = 1000\n",
    "E = np.linspace(E_min, E_max, E_size)"
   ]
  },
  {
   "cell_type": "code",
   "execution_count": 5,
   "id": "371de5b5",
   "metadata": {},
   "outputs": [],
   "source": [
    "# #funkcja wyznaczajaca indeksy bliskie prawdziwym wartosciom\n",
    "\n",
    "# def find_nearest_index(array, value):\n",
    "#     differences = np.abs(array - value)\n",
    "#     nearest_index = np.argmin(differences)\n",
    "#     return nearest_index\n",
    "\n",
    "# value = 0.5612917984996038\n",
    "# nearest_index = find_nearest_index(E, value)\n",
    "\n",
    "# print(f\"Indeks najbliższej wartości {value} to {nearest_index}\")"
   ]
  },
  {
   "cell_type": "code",
   "execution_count": 6,
   "id": "9fdabf76",
   "metadata": {},
   "outputs": [
    {
     "name": "stdout",
     "output_type": "stream",
     "text": [
      "1 zero funkcji falowej [meV]: 0.561246\n",
      "2 zero funkcji falowej [meV]: 2.244429\n",
      "3 zero funkcji falowej [meV]: 5.047888\n",
      "4 zero funkcji falowej [meV]: 8.968858\n",
      "5 zero funkcji falowej [meV]: 14.003467\n",
      "6 zero funkcji falowej [meV]: 20.146747\n",
      "7 zero funkcji falowej [meV]: 27.392636\n"
     ]
    }
   ],
   "source": [
    "N = 100\n",
    "dx = L/N\n",
    "zero_l = np.array([10, 55, 130, 250, 390, 570, 770])\n",
    "zero_p = np.array([20, 70, 150, 270, 410, 590, 790])\n",
    "\n",
    "results = []\n",
    "\n",
    "for i in range(zero_l.size):\n",
    "    E_left = E[zero_l[i]]\n",
    "    E_right = E[zero_p[i]]\n",
    "    result = bisection(E_left, E_right, 1e-6,N,dx)\n",
    "    results.append(result)\n",
    "\n",
    "# Wyświetlenie wyników\n",
    "for i, zero_energy in enumerate(results):\n",
    "    formatted_energy = \"{:.6f}\".format(zero_energy)\n",
    "    print(f\"{i + 1} zero funkcji falowej [meV]: {formatted_energy}\")"
   ]
  },
  {
   "cell_type": "code",
   "execution_count": 9,
   "id": "1f61c1c7",
   "metadata": {},
   "outputs": [
    {
     "name": "stdout",
     "output_type": "stream",
     "text": [
      "1 zero funkcji falowej [meV]: 0.561287\n",
      "2 zero funkcji falowej [meV]: 2.245085\n",
      "3 zero funkcji falowej [meV]: 5.051211\n",
      "4 zero funkcji falowej [meV]: 8.979356\n",
      "5 zero funkcji falowej [meV]: 14.029090\n",
      "6 zero funkcji falowej [meV]: 20.199858\n",
      "7 zero funkcji falowej [meV]: 27.490985\n"
     ]
    }
   ],
   "source": [
    "M = 300\n",
    "dxx = L/M\n",
    "\n",
    "results2 = []\n",
    "\n",
    "for i in range(zero_l.size):\n",
    "    E_left2 = E[zero_l[i]]\n",
    "    E_right2 = E[zero_p[i]]\n",
    "    result2 = bisection(E_left2, E_right2, 1e-6,M,dxx)\n",
    "    results2.append(result2)\n",
    "\n",
    "# Wyświetlenie wyników\n",
    "for i, zero_energy in enumerate(results2):\n",
    "    formatted_energy = \"{:.6f}\".format(zero_energy)\n",
    "    print(f\"{i + 1} zero funkcji falowej [meV]: {formatted_energy}\")"
   ]
  },
  {
   "cell_type": "code",
   "execution_count": 10,
   "id": "9e98512e",
   "metadata": {},
   "outputs": [
    {
     "name": "stdout",
     "output_type": "stream",
     "text": [
      "1 zero funkcji falowej [meV]: 0.561292\n",
      "2 zero funkcji falowej [meV]: 2.245167\n",
      "3 zero funkcji falowej [meV]: 5.051626\n",
      "4 zero funkcji falowej [meV]: 8.980669\n",
      "5 zero funkcji falowej [meV]: 14.032295\n",
      "6 zero funkcji falowej [meV]: 20.206505\n",
      "7 zero funkcji falowej [meV]: 27.503298\n"
     ]
    }
   ],
   "source": [
    "n = 1\n",
    "ile = 7\n",
    "for id in range(ile):\n",
    "    E_0 = 27211.6 * ((n * n * h_bar ** 2) / (2 * m)) * ((1 * np.pi / L) ** 2)\n",
    "    formatted_energy = \"{:.6f}\".format(E_0)\n",
    "    print(f\"{id + 1} zero funkcji falowej [meV]: {formatted_energy}\")\n",
    "    n = n + 1"
   ]
  },
  {
   "cell_type": "code",
   "execution_count": null,
   "id": "f247fad6",
   "metadata": {},
   "outputs": [],
   "source": []
  },
  {
   "cell_type": "code",
   "execution_count": null,
   "id": "c67e6511",
   "metadata": {},
   "outputs": [],
   "source": []
  }
 ],
 "metadata": {
  "kernelspec": {
   "display_name": "Python 3 (ipykernel)",
   "language": "python",
   "name": "python3"
  },
  "language_info": {
   "codemirror_mode": {
    "name": "ipython",
    "version": 3
   },
   "file_extension": ".py",
   "mimetype": "text/x-python",
   "name": "python",
   "nbconvert_exporter": "python",
   "pygments_lexer": "ipython3",
   "version": "3.11.5"
  }
 },
 "nbformat": 4,
 "nbformat_minor": 5
}
