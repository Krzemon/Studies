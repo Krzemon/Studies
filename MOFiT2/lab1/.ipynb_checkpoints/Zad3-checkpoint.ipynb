{
 "cells": [
  {
   "cell_type": "markdown",
   "id": "4ea2eda4",
   "metadata": {},
   "source": [
    "# Zadanie 3"
   ]
  },
  {
   "cell_type": "code",
   "execution_count": 2,
   "id": "1b372e56",
   "metadata": {},
   "outputs": [],
   "source": [
    "import numba as nb\n",
    "import numpy as np\n",
    "import matplotlib.pyplot as plt\n",
    "import math"
   ]
  },
  {
   "cell_type": "code",
   "execution_count": 6,
   "id": "9683ad63",
   "metadata": {},
   "outputs": [],
   "source": [
    "L = 100.0 / 0.05292\n",
    "m = 0.067\n",
    "h_bar = 1.0\n",
    "to_meV = 27211.6\n",
    "\n",
    "N = 300\n",
    "dx = L/N"
   ]
  },
  {
   "cell_type": "code",
   "execution_count": 7,
   "id": "16bdc15d",
   "metadata": {},
   "outputs": [],
   "source": [
    "@nb.njit\n",
    "def f(E,N,dx):\n",
    "    psi = np.zeros(N + 1)\n",
    "    psi[0] = 0\n",
    "    psi[1] = 1\n",
    "    V = 0\n",
    "    for i in range(1, N):\n",
    "        psi[i + 1] = -2 * m * (E - V) * dx**2 * psi[i] - psi[i - 1] + 2 * psi[i]\n",
    "    return psi[-1]\n",
    "\n",
    "@nb.njit\n",
    "def bisection(a, b, acc, N, dx):\n",
    "    while abs(a - b) > acc:\n",
    "        mid = 0.5 * (a + b)\n",
    "        if f(a/to_meV ,N,dx) * f(mid/to_meV ,N,dx) < 0:\n",
    "            b = mid\n",
    "        else:\n",
    "            a = mid\n",
    "    return b"
   ]
  },
  {
   "cell_type": "code",
   "execution_count": 8,
   "id": "92fc3f60",
   "metadata": {},
   "outputs": [],
   "source": [
    "# Zakres energii od 0 do 35 meV\n",
    "E_min = 0.0\n",
    "E_max = 35.0\n",
    "\n",
    "# Generowanie tablicy energii\n",
    "E_size = 1000\n",
    "E = np.linspace(E_min, E_max, E_size)"
   ]
  },
  {
   "cell_type": "code",
   "execution_count": 10,
   "id": "03ca3d78",
   "metadata": {},
   "outputs": [
    {
     "ename": "NameError",
     "evalue": "name 'results' is not defined",
     "output_type": "error",
     "traceback": [
      "\u001b[0;31m---------------------------------------------------------------------------\u001b[0m",
      "\u001b[0;31mNameError\u001b[0m                                 Traceback (most recent call last)",
      "Cell \u001b[0;32mIn[10], line 8\u001b[0m\n\u001b[1;32m      6\u001b[0m     E_right \u001b[38;5;241m=\u001b[39m E[zero_p[i]]\n\u001b[1;32m      7\u001b[0m     result \u001b[38;5;241m=\u001b[39m bisection(E_left, E_right, \u001b[38;5;241m1e-6\u001b[39m,N,dx)\n\u001b[0;32m----> 8\u001b[0m     \u001b[43mresults\u001b[49m\u001b[38;5;241m.\u001b[39mappend(result2)\n\u001b[1;32m     10\u001b[0m \u001b[38;5;66;03m# Wyświetlenie wyników\u001b[39;00m\n\u001b[1;32m     11\u001b[0m \u001b[38;5;28;01mfor\u001b[39;00m i, zero_energy \u001b[38;5;129;01min\u001b[39;00m \u001b[38;5;28menumerate\u001b[39m(results):\n",
      "\u001b[0;31mNameError\u001b[0m: name 'results' is not defined"
     ]
    }
   ],
   "source": [
    "zero_l = np.array([10, 55, 130, 250, 390, 570, 770])\n",
    "zero_p = np.array([20, 70, 150, 270, 410, 590, 790])\n",
    "\n",
    "\n",
    "results = []\n",
    "\n",
    "\n",
    "for i in range(zero_l.size):\n",
    "    E_left = E[zero_l[i]]\n",
    "    E_right = E[zero_p[i]]\n",
    "    result = bisection(E_left, E_right, 1e-6,N,dx)\n",
    "    results.append(result2)\n",
    "\n",
    "# Wyświetlenie wyników\n",
    "for i, zero_energy in enumerate(results):\n",
    "    formatted_energy = \"{:.6f}\".format(zero_energy)\n",
    "    print(f\"{i + 1} zero funkcji falowej [meV]: {formatted_energy}\")"
   ]
  },
  {
   "cell_type": "code",
   "execution_count": 29,
   "id": "b223b7c7",
   "metadata": {},
   "outputs": [],
   "source": [
    "W_size = 100\n",
    "E_size = 500\n",
    "C = np.zeros((W_size, E_size))\n",
    "W = np.linspace(0, 1000, W_size) / to_meV\n",
    "E = np.linspace(0, 35, E_size) / to_meV\n",
    "psi = np.zeros((W_size, E_size, N+1))\n",
    "psi[..., 1] = 1"
   ]
  },
  {
   "cell_type": "code",
   "execution_count": 30,
   "id": "55a423a4",
   "metadata": {},
   "outputs": [],
   "source": [
    "# Funkcja do obliczania wartości funkcji falowej w punkcie i+1\n",
    "def Psi(psi_i, psi_im1, E, V):\n",
    "    return -2 * m / np.square(h_bar) * (E - V) * np.square(dx) * psi_i + 2 * psi_i - psi_im1"
   ]
  },
  {
   "cell_type": "code",
   "execution_count": 31,
   "id": "3f559fc1",
   "metadata": {},
   "outputs": [],
   "source": [
    "for k in range(W_size): \n",
    "    for j in range(E_size):\n",
    "        for i in range(1, N):\n",
    "            if i == int(N/2):\n",
    "                V = -W[k]\n",
    "                psi[k][j][i+1] = Psi(psi[k][j][i], psi[k][j][i-1], E[j], V)\n",
    "            else:\n",
    "                V = 0\n",
    "                psi[k][j][i+1] = Psi(psi[k][j][i], psi[k][j][i-1], E[j], V)\n",
    "\n",
    "for k in range(W_size):\n",
    "    for j in range(E_size):\n",
    "        for i in range(N+1):\n",
    "            C[k][j] += dx*psi[k][j][i]**2\n",
    "\n",
    "for k in range(W_size):\n",
    "    for j in range(E_size):\n",
    "        for i in range(N+1):\n",
    "            psi[k][j][i] = psi[k][j][i]/np.sqrt(C[k][j])\n",
    "\n",
    "W *= 27211.6\n",
    "E *= 27211.6"
   ]
  },
  {
   "cell_type": "code",
   "execution_count": 32,
   "id": "0d259735",
   "metadata": {},
   "outputs": [],
   "source": [
    "acc = 0.01\n",
    "m_tmp_W = np.zeros((W_size, 7))"
   ]
  },
  {
   "cell_type": "code",
   "execution_count": 33,
   "id": "de772da5",
   "metadata": {},
   "outputs": [
    {
     "ename": "KeyboardInterrupt",
     "evalue": "",
     "output_type": "error",
     "traceback": [
      "\u001b[0;31m---------------------------------------------------------------------------\u001b[0m",
      "\u001b[0;31mKeyboardInterrupt\u001b[0m                         Traceback (most recent call last)",
      "Cell \u001b[0;32mIn[33], line 11\u001b[0m\n\u001b[1;32m      9\u001b[0m \u001b[38;5;28;01mif\u001b[39;00m psi[i, \u001b[38;5;28mint\u001b[39m(aa1), \u001b[38;5;241m-\u001b[39m\u001b[38;5;241m1\u001b[39m]\u001b[38;5;241m*\u001b[39mpsi[i, \u001b[38;5;28mint\u001b[39m(m_tmp_W[i][\u001b[38;5;28mid\u001b[39m]), \u001b[38;5;241m-\u001b[39m\u001b[38;5;241m1\u001b[39m] \u001b[38;5;241m<\u001b[39m \u001b[38;5;241m0\u001b[39m:\n\u001b[1;32m     10\u001b[0m     b_1[\u001b[38;5;28mid\u001b[39m] \u001b[38;5;241m=\u001b[39m m_tmp_W[i][\u001b[38;5;28mid\u001b[39m]\n\u001b[0;32m---> 11\u001b[0m \u001b[38;5;28;01mif\u001b[39;00m psi[i, \u001b[38;5;28;43mint\u001b[39;49m\u001b[43m(\u001b[49m\u001b[43mb_1\u001b[49m\u001b[43m[\u001b[49m\u001b[38;5;28;43mid\u001b[39;49m\u001b[43m]\u001b[49m\u001b[43m)\u001b[49m, \u001b[38;5;241m-\u001b[39m\u001b[38;5;241m1\u001b[39m]\u001b[38;5;241m*\u001b[39mpsi[i, \u001b[38;5;28mint\u001b[39m(m_tmp_W[i][\u001b[38;5;28mid\u001b[39m]), \u001b[38;5;241m-\u001b[39m\u001b[38;5;241m1\u001b[39m] \u001b[38;5;241m<\u001b[39m \u001b[38;5;241m0\u001b[39m:\n\u001b[1;32m     12\u001b[0m     aa1 \u001b[38;5;241m=\u001b[39m m_tmp_W[i][\u001b[38;5;28mid\u001b[39m]\n",
      "\u001b[0;31mKeyboardInterrupt\u001b[0m: "
     ]
    }
   ],
   "source": [
    "for i in range(W_size):\n",
    "    a_1 = np.array([0, 20, 60, 125, 180, 275, 380])\n",
    "    b_1 = np.array([20, 40, 124, 150, 250, 300, 460])\n",
    "    \n",
    "    for id, aa1 in enumerate(a_1):\n",
    "        while abs(E[int(aa1)] - E[int(b_1[id])]) > acc:\n",
    "            m_tmp_W[i][id] = 0.5*(aa1+b_1[id])\n",
    "            \n",
    "            if psi[i, int(aa1), -1]*psi[i, int(m_tmp_W[i][id]), -1] < 0:\n",
    "                b_1[id] = m_tmp_W[i][id]\n",
    "            if psi[i, int(b_1[id]), -1]*psi[i, int(m_tmp_W[i][id]), -1] < 0:\n",
    "                aa1 = m_tmp_W[i][id]"
   ]
  },
  {
   "cell_type": "code",
   "execution_count": null,
   "id": "870a68b6",
   "metadata": {},
   "outputs": [],
   "source": [
    "leg = ['1', '2', '3', '4', '5', '6', '7']\n",
    "plt.plot(W, m_tmp_W)\n",
    "plt.xlabel(\"W [meV]\")\n",
    "plt.ylabel(\"E [meV]\")\n",
    "plt.xlim(0, 1500)\n",
    "plt.ylim(0, 35)\n",
    "plt.legend(leg)\n",
    "plt.grid()\n",
    "plt.show()"
   ]
  },
  {
   "cell_type": "code",
   "execution_count": null,
   "id": "2b48f8ce",
   "metadata": {},
   "outputs": [],
   "source": [
    "# Narysować funkcje falowe 5 najniższych stanów dla W = 0.5 eV\n",
    "W_1 = 500/27211.6\n",
    "E_32size = 50000\n",
    "E_32 = np.linspace(0, 35, E_32size) / 27211.6\n",
    "C_32 = np.zeros(len(E_32))\n",
    "psi_32 = np.zeros((len(E_32), N+1)) \n",
    "psi_32[..., 1] = 1"
   ]
  },
  {
   "cell_type": "code",
   "execution_count": null,
   "id": "789e3897",
   "metadata": {},
   "outputs": [],
   "source": [
    "for j in range(E_32size): # pętla po 5 miejscach zerowych E\n",
    "    for i in range(1, N): # pętla po x\n",
    "        if i == int(N/2):\n",
    "            V = W_1\n",
    "            psi_32[j][i+1] = -(2*m/(Dirac_const**2))*(E_32[j]-V)*(dx**2)*psi_32[j][i] - \\\n",
    "                            psi_32[j][i-1] + 2*psi_32[j][i]\n",
    "        else:\n",
    "            V = 0\n",
    "            psi_32[j][i+1] = -(2*m/(Dirac_const**2))*(E_32[j]-V)*(dx**2)*psi_32[j][i] - \\\n",
    "                            psi_32[j][i-1] + 2*psi_32[j][i]\n",
    "\n",
    "    for i in range(N+1): # Stała C\n",
    "        C_32[j] += dx*psi_32[j][i]**2\n",
    "\n",
    "    for i in range(N+1): # Normowanie\n",
    "        psi_32[j][i] = psi_32[j][i]/np.sqrt(C_32[j])\n",
    "\n",
    "E_32 *= 27211.6"
   ]
  },
  {
   "cell_type": "code",
   "execution_count": null,
   "id": "ff2f1547",
   "metadata": {},
   "outputs": [],
   "source": [
    "plt.plot(E_32, psi_32[:, -1])\n",
    "plt.xlabel(\"N\")\n",
    "plt.ylabel(r\"$\\psi$\")\n",
    "plt.xlim(0, 35)\n",
    "#plt.ylim(-10, 100)\n",
    "plt.grid()\n",
    "plt.show()"
   ]
  },
  {
   "cell_type": "code",
   "execution_count": null,
   "id": "849e4d62",
   "metadata": {},
   "outputs": [],
   "source": [
    "acc = 0.001 # meV (27211.6)\n",
    "a_32 = np.array([2450, 3100, 10000, 12500, 23500]) #indeksy tablicy 'E', które osaczają miejsca zerowe dla size=50k\n",
    "b_32 = np.array([2550, 3300, 10500, 13000, 24100])\n",
    "m_tmp_32 = np.zeros(len(a_32))"
   ]
  },
  {
   "cell_type": "code",
   "execution_count": null,
   "id": "63531ef1",
   "metadata": {},
   "outputs": [],
   "source": [
    "for id, a32 in enumerate(a_32):\n",
    "    while abs(E[int(a32)] - E[int(b_32[id])]) > acc:\n",
    "        m_tmp_32[id] = 0.5*(a32+b_32[id])\n",
    "        \n",
    "        if psi_32[int(a32), -1]*psi_32[int(m_tmp_32[id]), -1] < 0:\n",
    "            b_32[id] = m_tmp_32[id]\n",
    "        if psi_32[int(b_32[id]), -1]*psi_32[int(m_tmp_32[id]), -1] < 0:\n",
    "            a32 = m_tmp_32[id]"
   ]
  },
  {
   "cell_type": "code",
   "execution_count": null,
   "id": "f74a626c",
   "metadata": {},
   "outputs": [],
   "source": [
    "for i in range(len(m_tmp_32)):\n",
    "    print(\"Miejsce zerowe [meV]: \", E_32[int(m_tmp_32[i])])"
   ]
  },
  {
   "cell_type": "code",
   "execution_count": null,
   "id": "58155578",
   "metadata": {},
   "outputs": [],
   "source": [
    "for i in range(len(m_tmp_32)):\n",
    "    plt.plot(psi_32[int(m_tmp_32[i]), :])\n",
    "plt.xlabel(\"N\")\n",
    "plt.ylabel(r\"$\\psi$\")\n",
    "# plt.xlim(0, 50000)\n",
    "# plt.ylim(-10, 100)\n",
    "plt.legend(['1', '2', '3', '4', '5'])\n",
    "plt.grid()\n",
    "plt.show()"
   ]
  },
  {
   "cell_type": "code",
   "execution_count": null,
   "id": "aeb003b4",
   "metadata": {},
   "outputs": [],
   "source": [
    "# Funkcje falowe w zależnoćsci od W dla 2 pierwszych stanów\n",
    "W_tab = [W[0], W[99], W[199], W[299], W[399], W[499]] # dla tych wartości pokazane będą f. falowe"
   ]
  },
  {
   "cell_type": "code",
   "execution_count": null,
   "id": "9a4045db",
   "metadata": {},
   "outputs": [],
   "source": [
    "# Zad 3\n",
    "\n",
    "N = 300 # ilość punktów\n",
    "W_size3 = 5\n",
    "E_size3 = 50000\n",
    "C_33 = np.zeros((W_size3, E_size3)) # stała skalująca funkcję falową\n",
    "W_33 = np.linspace(0, 1500, W_size3) / 27211.6 # bariera potencjału\n",
    "E_33 = np.linspace(0, 35, E_size3) / 27211.6\n",
    "dx = L/N\n",
    "psi_33 = np.zeros((W_size3, E_size3, N+1))\n",
    "psi_33[..., 1] = 1"
   ]
  },
  {
   "cell_type": "code",
   "execution_count": null,
   "id": "ebb82775",
   "metadata": {},
   "outputs": [],
   "source": [
    "for k in range(W_size3): \n",
    "    for j in range(E_size3):\n",
    "        for i in range(1, N): # pętla po x\n",
    "            if i == int(N/2):\n",
    "                V = W_33[k]\n",
    "                psi_33[k][j][i+1] = -(2*m/(Dirac_const**2))*(E_33[j]-V)*(dx**2)*psi_33[k][j][i] - \\\n",
    "                                    psi_33[k][j][i-1] + 2*psi_33[k][j][i]\n",
    "            else:\n",
    "                V = 0\n",
    "                psi_33[k][j][i+1] = -(2*m/(Dirac_const**2))*(E_33[j]-V)*(dx**2)*psi_33[k][j][i] - \\\n",
    "                                    psi_33[k][j][i-1] + 2*psi_33[k][j][i]\n",
    "\n",
    "for k in range(W_size3): # Liczenie stałej C\n",
    "    for j in range(E_size3):\n",
    "        for i in range(N+1):\n",
    "            C_33[k][j] += dx*psi_33[k][j][i]**2\n",
    "\n",
    "for k in range(W_size3): # Normowanie\n",
    "    for j in range(E_size3):\n",
    "        for i in range(N+1):\n",
    "            psi_33[k][j][i] = psi_33[k][j][i]/np.sqrt(C_33[k][j])\n",
    "\n",
    "W_33 *= 27211.6\n",
    "E_33 *= 27211.6"
   ]
  },
  {
   "cell_type": "code",
   "execution_count": null,
   "id": "ef89dcbe",
   "metadata": {},
   "outputs": [],
   "source": [
    "plt.figure(figsize=(10, 10))\n",
    "plt.plot(E_33, psi_33[1, :, -1])\n",
    "plt.plot(E_33, psi_33[2, :, -1])\n",
    "plt.plot(E_33, psi_33[3, :, -1])\n",
    "plt.plot(E_33, psi_33[4, :, -1])\n",
    "#plt.plot(E, psi_3[-1, :, -1])\n",
    "plt.xlabel(\"E [meV]\")\n",
    "plt.ylabel(r\"$\\psi_{N}$\")\n",
    "#plt.xlim(0, 5000)\n",
    "plt.grid()\n",
    "plt.show()"
   ]
  },
  {
   "cell_type": "code",
   "execution_count": null,
   "id": "06d25cc0",
   "metadata": {},
   "outputs": [],
   "source": [
    "acc = 0.001 #27211.6\n",
    "m_tmp_31 = np.zeros((1, 2))\n",
    "m_tmp_32 = np.zeros((1, 2))\n",
    "m_tmp_33 = np.zeros((3, 2))\n",
    "\n",
    "a_31 = np.array([700, 3000]) #indeksy tablicy 'E', które osaczają miejsca zerowe dla size=50k\n",
    "b_31 = np.array([1000, 4500])\n",
    "\n",
    "for id, aa31 in enumerate(a_31): # indeksy od 0 do 50 w W\n",
    "    while abs(E_33[int(aa31)] - E_33[int(b_31[id])]) > acc:\n",
    "        m_tmp_31[0][id] = 0.5*(aa31+b_31[id])\n",
    "        \n",
    "        if psi_33[0, int(aa31), -1]*psi_33[0, int(m_tmp_31[0][id]), -1] < 0:\n",
    "            b_31[id] = m_tmp_31[0][id]\n",
    "        if psi_33[0, int(b_31[id]), -1]*psi_33[0, int(m_tmp_31[0][id]), -1] < 0:\n",
    "            aa31 = m_tmp_31[0][id]\n",
    "\n",
    "\n",
    "a_32 = np.array([2000, 3000]) # indeksy tablicy 'W', od W_50 do W_200\n",
    "b_32 = np.array([3000, 4000])\n",
    "\n",
    "for id, aa32 in enumerate(a_32): # indeksy od 50 do 200 w W\n",
    "    while abs(E_33[int(aa32)] - E_33[int(b_32[id])]) > acc:\n",
    "        m_tmp_32[0][id] = 0.5*(aa32+b_32[id])\n",
    "        \n",
    "        if psi_33[1, int(aa32), -1]*psi_33[1, int(m_tmp_32[0][id]), -1] < 0:\n",
    "            b_32[id] = m_tmp_32[0][id]\n",
    "        if psi_33[1, int(b_32[id]), -1]*psi_33[1, int(m_tmp_32[0][id]), -1] < 0:\n",
    "            aa32 = m_tmp_32[0][id]\n",
    "\n",
    "\n",
    "for i in range(0, 3):\n",
    "    a_33 = np.array([2500, 3000]) # indeksy tablicy 'W', od W_200 do W_499\n",
    "    b_33 = np.array([3000, 3500])\n",
    "\n",
    "    for id, aa33 in enumerate(a_33): # indeksy od 200 do 499 w W\n",
    "        while abs(E_33[int(aa33)] - E_33[int(b_33[id])]) > acc:\n",
    "            m_tmp_33[i][id] = 0.5*(aa33+b_33[id])\n",
    "            \n",
    "            if psi_33[i+2, int(aa33), -1]*psi_33[i+2, int(m_tmp_33[i][id]), -1] < 0:\n",
    "                b_33[id] = m_tmp_33[i][id] \n",
    "            if psi_33[i+2, int(b_33[id]), -1]*psi_33[i+2, int(m_tmp_33[i][id]), -1] < 0:\n",
    "                aa33 = m_tmp_33[i][id]"
   ]
  },
  {
   "cell_type": "code",
   "execution_count": null,
   "id": "992789f1",
   "metadata": {},
   "outputs": [],
   "source": [
    "m_tmp_33all = np.concatenate((m_tmp_31, m_tmp_32, m_tmp_33))"
   ]
  },
  {
   "cell_type": "code",
   "execution_count": null,
   "id": "fed2d776",
   "metadata": {},
   "outputs": [],
   "source": [
    "# Pierwsze miejsce zerowe\n",
    "for i in range(5):\n",
    "    plt.plot(psi_33[i, int(m_tmp_33all[i][0]), :])\n",
    "plt.xlabel(\"N\")\n",
    "plt.ylabel(r\"$\\psi$\")\n",
    "plt.grid()\n",
    "plt.legend([W_33[i] for i in range(5)], loc=1)\n",
    "plt.show()"
   ]
  },
  {
   "cell_type": "code",
   "execution_count": null,
   "id": "dbce34d3",
   "metadata": {},
   "outputs": [],
   "source": [
    "# Drugie miejsce zerowe\n",
    "for i in range(5):\n",
    "    plt.plot(psi_33[i, int(m_tmp_33all[i][1]), :])\n",
    "plt.xlabel(\"N\")\n",
    "plt.ylabel(r\"$\\psi$\")\n",
    "plt.grid()\n",
    "plt.legend([W_33[i] for i in range(5)])\n",
    "plt.show()"
   ]
  },
  {
   "cell_type": "code",
   "execution_count": null,
   "id": "75c5b2da",
   "metadata": {},
   "outputs": [],
   "source": []
  }
 ],
 "metadata": {
  "kernelspec": {
   "display_name": "Python 3 (ipykernel)",
   "language": "python",
   "name": "python3"
  },
  "language_info": {
   "codemirror_mode": {
    "name": "ipython",
    "version": 3
   },
   "file_extension": ".py",
   "mimetype": "text/x-python",
   "name": "python",
   "nbconvert_exporter": "python",
   "pygments_lexer": "ipython3",
   "version": "3.11.5"
  }
 },
 "nbformat": 4,
 "nbformat_minor": 5
}
