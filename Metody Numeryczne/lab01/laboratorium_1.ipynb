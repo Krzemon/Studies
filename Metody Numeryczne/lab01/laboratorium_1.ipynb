{
 "cells": [
  {
   "cell_type": "code",
   "execution_count": 2,
   "id": "164655bd",
   "metadata": {},
   "outputs": [],
   "source": [
    "import numpy as np"
   ]
  },
  {
   "cell_type": "code",
   "execution_count": 3,
   "id": "5d707c13",
   "metadata": {},
   "outputs": [
    {
     "name": "stdout",
     "output_type": "stream",
     "text": [
      "Współczynniki wielomianu interpolacyjnego: [ 0.5  1.   2.  -0.2  3. ]\n"
     ]
    }
   ],
   "source": [
    "def gaussian_elimination(A, Y):\n",
    "    n = len(A)\n",
    "\n",
    "    # Eliminacja współczynników\n",
    "    for i in range(n):\n",
    "        pivot_row = i\n",
    "        for j in range(i + 1, n):\n",
    "            if abs(A[j][i]) > abs(A[pivot_row][i]):\n",
    "                pivot_row = j\n",
    "        A[[i, pivot_row]] = A[[pivot_row, i]]\n",
    "        Y[[i, pivot_row]] = Y[[pivot_row, i]]\n",
    "        for j in range(i + 1, n):\n",
    "            factor = A[j][i] / A[i][i]\n",
    "            for k in range(i, n):\n",
    "                A[j][k] -= factor * A[i][k]\n",
    "            Y[j] -= factor * Y[i]\n",
    "\n",
    "    # Zastosowanie wyeliminowanych współczynników wstecz\n",
    "    coefficients = np.zeros(n)\n",
    "    for i in range(n - 1, -1, -1):\n",
    "        coefficients[i] = Y[i] / A[i][i]\n",
    "        for j in range(i - 1, -1, -1):\n",
    "            Y[j] -= A[j][i] * coefficients[i]\n",
    "\n",
    "    return coefficients\n",
    "\n",
    "def lagrange_coefficients(X, Y):\n",
    "    N = len(X)\n",
    "    A = np.zeros((N, N))\n",
    "\n",
    "    for i in range(N):\n",
    "        for j in range(N):\n",
    "            A[i][j] = X[i] ** j\n",
    "\n",
    "    coefficients = gaussian_elimination(A, Y)\n",
    "    return coefficients\n",
    "\n",
    "# Przykładowe dane punktów\n",
    "X = np.array([-2, -1, 0.1, 2, 3])\n",
    "Y = np.array([56.1, 4.7, 0.6201, 56.9, 259.1])\n",
    "\n",
    "coefficients = lagrange_coefficients(X, Y)\n",
    "print(\"Współczynniki wielomianu interpolacyjnego:\", coefficients)\n"
   ]
  },
  {
   "cell_type": "code",
   "execution_count": null,
   "id": "f860b2da",
   "metadata": {},
   "outputs": [],
   "source": []
  }
 ],
 "metadata": {
  "kernelspec": {
   "display_name": "Python 3 (ipykernel)",
   "language": "python",
   "name": "python3"
  },
  "language_info": {
   "codemirror_mode": {
    "name": "ipython",
    "version": 3
   },
   "file_extension": ".py",
   "mimetype": "text/x-python",
   "name": "python",
   "nbconvert_exporter": "python",
   "pygments_lexer": "ipython3",
   "version": "3.12.2"
  }
 },
 "nbformat": 4,
 "nbformat_minor": 5
}
