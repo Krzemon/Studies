{
 "cells": [
  {
   "cell_type": "code",
   "execution_count": 53,
   "id": "e512d6a8",
   "metadata": {},
   "outputs": [],
   "source": [
    "import numpy as np\n",
    "# import sympy as sp - dla porownania\n",
    "from matplotlib import pyplot as plt"
   ]
  },
  {
   "cell_type": "code",
   "execution_count": 65,
   "id": "37ec0e08",
   "metadata": {},
   "outputs": [],
   "source": [
    "# tablica znanych punktow\n",
    "# points = []\n",
    "\n",
    "# dodajemy punkty\n",
    "# points.append([-2,2])\n",
    "# points.append([-1,6])\n",
    "# points.append([0.5,3.5])\n",
    "# points.append([1,7])\n",
    "# points.append([2,12])\n",
    "# points.append([3,9])\n",
    "\n",
    "# N = np.size(points[:])\n",
    "# n = (int)(N/2)\n",
    "\n",
    "#A = np.zeros((n,n))"
   ]
  },
  {
   "cell_type": "code",
   "execution_count": 66,
   "id": "32ce1407",
   "metadata": {},
   "outputs": [],
   "source": [
    "x0 = -2\n",
    "x1 = -1\n",
    "x2 = 0.1\n",
    "x3 = 1\n",
    "x4 = 2\n",
    "x5 = 3\n",
    "\n",
    "X = [x0,x1,x2,x4,x5]\n",
    "\n",
    "c0 = 0.5\n",
    "c1 = 1\n",
    "c2 = 2\n",
    "c3 = -0.2\n",
    "c4 = 3\n",
    "c5 = -70\n",
    "\n",
    "C = [c0,c1,c2,c3,c4,c5]"
   ]
  },
  {
   "cell_type": "code",
   "execution_count": 67,
   "id": "481b55c1",
   "metadata": {},
   "outputs": [
    {
     "data": {
      "text/plain": [
       "[56.1, 4.7, 0.6201, 56.9, 259.1]"
      ]
     },
     "execution_count": 67,
     "metadata": {},
     "output_type": "execute_result"
    }
   ],
   "source": [
    "size = np.size(X)\n",
    "Y = []\n",
    "y_temp = 0\n",
    "for i in range(0,size):\n",
    "    for j in range(0,size):\n",
    "        y_temp += np.power(X[i],j) * C[j]\n",
    "    Y.append(y_temp)\n",
    "    y_temp = 0\n",
    "Y"
   ]
  },
  {
   "cell_type": "code",
   "execution_count": 68,
   "id": "d8b0bfab",
   "metadata": {},
   "outputs": [
    {
     "data": {
      "text/plain": [
       "array([[ 5.00e-01, -2.00e+00,  8.00e+00,  1.60e+00,  4.80e+01],\n",
       "       [ 5.00e-01, -1.00e+00,  2.00e+00,  2.00e-01,  3.00e+00],\n",
       "       [ 5.00e-01,  1.00e-01,  2.00e-02, -2.00e-04,  3.00e-04],\n",
       "       [ 5.00e-01,  2.00e+00,  8.00e+00, -1.60e+00,  4.80e+01],\n",
       "       [ 5.00e-01,  3.00e+00,  1.80e+01, -5.40e+00,  2.43e+02]])"
      ]
     },
     "execution_count": 68,
     "metadata": {},
     "output_type": "execute_result"
    }
   ],
   "source": [
    "A = np.zeros((size,size))\n",
    "for i in range(0,size):\n",
    "    for j in range(0,size):\n",
    "        A[i][j] = np.power(X[i],j) * C[j]\n",
    "A"
   ]
  },
  {
   "cell_type": "code",
   "execution_count": 74,
   "id": "8d9596af",
   "metadata": {},
   "outputs": [
    {
     "data": {
      "text/plain": [
       "array([[ 1.00000000e+00, -4.00000000e+00,  1.60000000e+01,\n",
       "         3.20000000e+00,  9.60000000e+01],\n",
       "       [-2.50400000e-01,  1.00000000e+00, -3.99680000e+00,\n",
       "        -7.99040000e-01, -2.39664000e+01],\n",
       "       [ 6.26134247e-02, -2.50149884e-01,  1.00000000e+00,\n",
       "         1.99939966e-01,  5.99729857e+00],\n",
       "       [ 2.90135925e-01, -1.25182473e+00,  4.89067759e+00,\n",
       "         1.00000000e+00,  2.93616339e+01],\n",
       "       [ 9.86180147e-03, -4.26673939e-02,  1.66560927e-01,\n",
       "         3.40834427e-02,  1.00000000e+00]])"
      ]
     },
     "execution_count": 74,
     "metadata": {},
     "output_type": "execute_result"
    }
   ],
   "source": [
    "# kolumna 0\n",
    "# A[:,0]\n",
    "\n",
    "#zamiana wierszy ogolnie\n",
    "#if A[i,i] == 0: ...\n",
    "    \n",
    "for i in range (0,size):\n",
    "    A[i,:] /= A[i,i]\n",
    "    for j in range (i+1,size):\n",
    "        A[j,:] /= A[j,j]\n",
    "        A[j,:] -= A[i,:]\n",
    "        \n",
    "for i in range (0,size):\n",
    "    for j in range (0,size):\n",
    "        round(A[i,j])\n",
    "A"
   ]
  },
  {
   "cell_type": "code",
   "execution_count": 70,
   "id": "31dc545d",
   "metadata": {},
   "outputs": [
    {
     "data": {
      "text/plain": [
       "1.0"
      ]
     },
     "execution_count": 70,
     "metadata": {},
     "output_type": "execute_result"
    }
   ],
   "source": [
    "A[i,i]\n",
    "http://staff.uz.zgora.pl/mniedzie/pliki/MetNum/Metody_Numeryczne_Rozdzial_1_2.pdf"
   ]
  },
  {
   "cell_type": "code",
   "execution_count": 71,
   "id": "e72c3d0e",
   "metadata": {},
   "outputs": [
    {
     "ename": "SyntaxError",
     "evalue": "incomplete input (4218275664.py, line 6)",
     "output_type": "error",
     "traceback": [
      "\u001b[0;36m  Cell \u001b[0;32mIn [71], line 6\u001b[0;36m\u001b[0m\n\u001b[0;31m    \u001b[0m\n\u001b[0m    ^\u001b[0m\n\u001b[0;31mSyntaxError\u001b[0m\u001b[0;31m:\u001b[0m incomplete input\n"
     ]
    }
   ],
   "source": [
    "# macierz Vandermonde'a\n",
    "x, y = symbols(\"x y\")\n",
    "MATRIX = np\n",
    "for i in range(0,size):\n",
    "    for j in range(0,size):\n",
    "        "
   ]
  },
  {
   "cell_type": "code",
   "execution_count": null,
   "id": "e43055ff",
   "metadata": {},
   "outputs": [],
   "source": []
  }
 ],
 "metadata": {
  "kernelspec": {
   "display_name": "Python 3 (ipykernel)",
   "language": "python",
   "name": "python3"
  },
  "language_info": {
   "codemirror_mode": {
    "name": "ipython",
    "version": 3
   },
   "file_extension": ".py",
   "mimetype": "text/x-python",
   "name": "python",
   "nbconvert_exporter": "python",
   "pygments_lexer": "ipython3",
   "version": "3.12.2"
  }
 },
 "nbformat": 4,
 "nbformat_minor": 5
}
