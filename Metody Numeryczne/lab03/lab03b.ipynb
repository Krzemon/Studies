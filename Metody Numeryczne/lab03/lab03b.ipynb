{
 "cells": [
  {
   "cell_type": "code",
   "execution_count": 10,
   "id": "99279495",
   "metadata": {},
   "outputs": [],
   "source": [
    "import numpy as np\n",
    "from numpy import linalg as LA\n",
    "import matplotlib.pyplot as plt"
   ]
  },
  {
   "cell_type": "code",
   "execution_count": 11,
   "id": "ab60d121",
   "metadata": {},
   "outputs": [],
   "source": [
    "n = 1000\n",
    "m = 5\n",
    "A = np.zeros((n, n))\n",
    "\n",
    "for i in range(n):\n",
    "    for j in range(n):\n",
    "        temp = abs(i - j)\n",
    "        if temp <= m:\n",
    "            A[i][j] = 1 / (1 + temp)\n",
    "        else:\n",
    "            A[i][j] = 0\n",
    "\n",
    "b = np.arange(n)\n",
    "x = np.zeros(n)\n",
    "\n",
    "r = b - np.dot(A, x)\n",
    "alpha = np.inner(r, r) / np.inner(np.dot(A, r), r)\n",
    "x += alpha * r"
   ]
  },
  {
   "cell_type": "code",
   "execution_count": null,
   "id": "12cb3507",
   "metadata": {},
   "outputs": [],
   "source": [
    "norm_rr = [np.linalg.norm(r)]\n",
    "norm_x = [np.linalg.norm(x)]\n",
    "iterations = [0]\n",
    "p = r\n",
    "\n",
    "with open(\"wyniki.txt\", \"w\") as f:\n",
    "    f.write(\"iteracja\\tnorm_rr\\talpha\\txk\\n\")\n",
    "\n",
    "    # Pętla główna metody sprzężonych gradientów\n",
    "    k = 1\n",
    "    while np.linalg.norm(r) > 1e-6:\n",
    "        r = b - np.dot(A, x)\n",
    "        alpha = np.inner(r, r) / np.inner(np.dot(A, r), r)\n",
    "        x += alpha * r\n",
    "        beta = np.inner(np.dot(A, r), r) / np.inner(np.dot(A, p), p)\n",
    "        p = r + beta * p\n",
    "        norm_rr.append(np.linalg.norm(r))\n",
    "        norm_x.append(np.linalg.norm(x))\n",
    "        iterations.append(k)\n",
    "\n",
    "        f.write(f\"{k}\\t{norm_rr[-1]}\\t{alpha}\\t{np.linalg.norm(x)}\\n\")\n",
    "        \n",
    "        k += 1"
   ]
  },
  {
   "cell_type": "code",
   "execution_count": null,
   "id": "1ae51c96",
   "metadata": {},
   "outputs": [],
   "source": [
    "plt.figure(figsize=(10, 6))\n",
    "plt.semilogy(iterations, norm_rr, label=r'$||r_k||_2$')\n",
    "plt.xlabel('Numer iteracji (k)')\n",
    "plt.ylabel('Norma euklidesowa wektora reszt')\n",
    "plt.title('Norma euklidesowa wektora reszt w funkcji numeru iteracji')\n",
    "plt.legend()\n",
    "plt.grid(True)\n",
    "plt.savefig('norm_rr.png')\n",
    "plt.show()"
   ]
  },
  {
   "cell_type": "code",
   "execution_count": null,
   "id": "4983b870",
   "metadata": {},
   "outputs": [],
   "source": [
    "plt.figure(figsize=(10, 6))\n",
    "plt.plot(iterations, norm_x, label=r'$||x_k||_2$')\n",
    "plt.xlabel('Numer iteracji (k)')\n",
    "plt.ylabel('Norma euklidesowa wektora rozwiązań')\n",
    "plt.title('Norma euklidesowa wektora rozwiązań w funkcji numeru iteracji')\n",
    "plt.legend()\n",
    "plt.grid(True)\n",
    "plt.savefig('norm_x.png')\n",
    "plt.show()"
   ]
  },
  {
   "cell_type": "code",
   "execution_count": null,
   "id": "88cf938b",
   "metadata": {},
   "outputs": [],
   "source": []
  },
  {
   "cell_type": "code",
   "execution_count": null,
   "id": "428fd8f1-53c6-4798-9d7e-81da50f1f0d1",
   "metadata": {},
   "outputs": [],
   "source": []
  }
 ],
 "metadata": {
  "kernelspec": {
   "display_name": "Python 3 (ipykernel)",
   "language": "python",
   "name": "python3"
  },
  "language_info": {
   "codemirror_mode": {
    "name": "ipython",
    "version": 3
   },
   "file_extension": ".py",
   "mimetype": "text/x-python",
   "name": "python",
   "nbconvert_exporter": "python",
   "pygments_lexer": "ipython3",
   "version": "3.12.2"
  }
 },
 "nbformat": 4,
 "nbformat_minor": 5
}
