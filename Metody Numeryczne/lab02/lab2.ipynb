{
 "cells": [
  {
   "cell_type": "code",
   "execution_count": 8,
   "id": "e63a1293",
   "metadata": {},
   "outputs": [],
   "source": [
    "import numpy as np"
   ]
  },
  {
   "cell_type": "code",
   "execution_count": 21,
   "id": "db54e325",
   "metadata": {},
   "outputs": [],
   "source": [
    "def lu_decomposition(A):\n",
    "    n = len(A)\n",
    "    L = np.zeros((n, n))\n",
    "    U = np.zeros((n, n))\n",
    "    \n",
    "    for i in range(n):\n",
    "        for k in range(i, n):\n",
    "            U[i][k] = A[i][k] - sum(L[i][j] * U[j][k] for j in range(i))\n",
    "        \n",
    "        for k in range(i, n):\n",
    "            if i == k:\n",
    "                L[i][i] = 1\n",
    "            else:\n",
    "                L[k][i] = (A[k][i] - sum(L[k][j] * U[j][i] for j in range(i))) / U[i][i]\n",
    "    \n",
    "    return L, U\n",
    "\n",
    "def generate_matrix(n):\n",
    "    A = np.zeros((n, n))\n",
    "    for i in range(n):\n",
    "        for j in range(n):\n",
    "            A[i][j] = 1 / (i + j + 2)\n",
    "    return A\n",
    "\n",
    "# Funkcja do ekstrakcji elementów diagonalnych z macierzy U\n",
    "def extract_diagonal(U):\n",
    "    n = len(U)\n",
    "    diagonal = [U[i][i] for i in range(n)]\n",
    "    return diagonal\n",
    "\n",
    "# Funkcja do obliczenia wyznacznika macierzy A\n",
    "def calculate_determinant(U):\n",
    "    return np.prod(extract_diagonal(U))"
   ]
  },
  {
   "cell_type": "code",
   "execution_count": 22,
   "id": "7db8c693",
   "metadata": {},
   "outputs": [
    {
     "name": "stdout",
     "output_type": "stream",
     "text": [
      "Wygenerowana macierz A:\n",
      "[[0.5        0.33333333 0.25       0.2       ]\n",
      " [0.33333333 0.25       0.2        0.16666667]\n",
      " [0.25       0.2        0.16666667 0.14285714]\n",
      " [0.2        0.16666667 0.14285714 0.125     ]]\n",
      "Matrix L:\n",
      "[[1.         0.         0.         0.        ]\n",
      " [0.66666667 1.         0.         0.        ]\n",
      " [0.5        1.2        1.         0.        ]\n",
      " [0.4        1.2        1.71428571 1.        ]]\n",
      "Matrix U:\n",
      "[[5.00000000e-01 3.33333333e-01 2.50000000e-01 2.00000000e-01]\n",
      " [0.00000000e+00 2.77777778e-02 3.33333333e-02 3.33333333e-02]\n",
      " [0.00000000e+00 0.00000000e+00 1.66666667e-03 2.85714286e-03]\n",
      " [0.00000000e+00 0.00000000e+00 0.00000000e+00 1.02040816e-04]]\n"
     ]
    }
   ],
   "source": [
    "# Test\n",
    "n = 4\n",
    "A = generate_matrix(n)\n",
    "print(\"Wygenerowana macierz A:\")\n",
    "print(A)\n",
    "\n",
    "L, U = lu_decomposition(A)\n",
    "print(\"Matrix L:\")\n",
    "print(L)\n",
    "print(\"Matrix U:\")\n",
    "print(U)"
   ]
  },
  {
   "cell_type": "code",
   "execution_count": 23,
   "id": "e917b2d1",
   "metadata": {},
   "outputs": [
    {
     "name": "stdout",
     "output_type": "stream",
     "text": [
      "Elementy diagonalne macierzy U:\n",
      "[0.5, 0.02777777777777779, 0.0016666666666666219, 0.0001020408163264902]\n",
      "\n",
      "Wyznacznik macierzy A: 2.3620559334835072e-09\n"
     ]
    }
   ],
   "source": [
    "print(\"Elementy diagonalne macierzy U:\")\n",
    "print(extract_diagonal(U))\n",
    "\n",
    "print(\"\\nWyznacznik macierzy A:\", calculate_determinant(U))"
   ]
  },
  {
   "cell_type": "code",
   "execution_count": 24,
   "id": "baaebc3a",
   "metadata": {},
   "outputs": [],
   "source": [
    "def solve_systems(L, U, bs):\n",
    "    n = len(L)\n",
    "    x_solutions = []\n",
    "    for b in bs:\n",
    "        # Rozwiązanie układu równań Ly = b\n",
    "        y = np.linalg.solve(L, b)\n",
    "        # Rozwiązanie układu równań Ux = y\n",
    "        x = np.linalg.solve(U, y)\n",
    "        x_solutions.append(x)\n",
    "    return np.column_stack(x_solutions)  # Złożenie rozwiązań w macierz kolumnową"
   ]
  },
  {
   "cell_type": "code",
   "execution_count": 25,
   "id": "0245699f",
   "metadata": {},
   "outputs": [
    {
     "name": "stdout",
     "output_type": "stream",
     "text": [
      "Macierz odwrotna A^-1:\n",
      "[[0.5        0.33333333 0.25       0.2       ]\n",
      " [0.33333333 0.25       0.2        0.16666667]\n",
      " [0.25       0.2        0.16666667 0.14285714]\n",
      " [0.2        0.16666667 0.14285714 0.125     ]]\n",
      "[[   200.          -1200.           2100.          -1120.        ]\n",
      " [ -1200.           8100.         -15120.00000001   8400.        ]\n",
      " [  2100.         -15120.00000001  29400.00000001 -16800.00000001]\n",
      " [ -1120.           8400.         -16800.00000001   9800.        ]]\n"
     ]
    }
   ],
   "source": [
    "\n",
    "\n",
    "# Wektory wyrazów wolnych\n",
    "bs = [np.array([1, 0, 0, 0]),\n",
    "      np.array([0, 1, 0, 0]),\n",
    "      np.array([0, 0, 1, 0]),\n",
    "      np.array([0, 0, 0, 1])]\n",
    "\n",
    "# Rozkład LU\n",
    "L, U = lu_decomposition(A)\n",
    "\n",
    "A_inv = solve_systems(L, U, bs)\n",
    "\n",
    "print(\"Macierz odwrotna A^-1:\")\n",
    "print(A)\n",
    "print(A_inv)"
   ]
  },
  {
   "cell_type": "code",
   "execution_count": 26,
   "id": "065c238b",
   "metadata": {},
   "outputs": [
    {
     "name": "stdout",
     "output_type": "stream",
     "text": [
      "Iloczyn macierzy A i A^-1:\n",
      "[[ 1.00000000e+00  1.84208204e-13  8.63309424e-14 -2.54996024e-13\n",
      "   1.00000000e+00  1.84208204e-13  8.63309424e-14 -2.54996024e-13\n",
      "   1.00000000e+00  1.84208204e-13  8.63309424e-14 -2.54996024e-13\n",
      "   1.00000000e+00  1.84208204e-13  8.63309424e-14 -2.54996024e-13]\n",
      " [-2.75335310e-14  1.00000000e+00 -1.47733677e-13  6.09142366e-14\n",
      "  -2.75335310e-14  1.00000000e+00 -1.47733677e-13  6.09142366e-14\n",
      "  -2.75335310e-14  1.00000000e+00 -1.47733677e-13  6.09142366e-14\n",
      "  -2.75335310e-14  1.00000000e+00 -1.47733677e-13  6.09142366e-14]\n",
      " [-1.14194368e-14  9.57963867e-14  1.00000000e+00 -1.10197565e-13\n",
      "  -1.14194368e-14  9.57963867e-14  1.00000000e+00 -1.10197565e-13\n",
      "  -1.14194368e-14  9.57963867e-14  1.00000000e+00 -1.10197565e-13\n",
      "  -1.14194368e-14  9.57963867e-14  1.00000000e+00 -1.10197565e-13]\n",
      " [ 0.00000000e+00 -2.27373675e-13  0.00000000e+00  1.00000000e+00\n",
      "   0.00000000e+00 -2.27373675e-13  0.00000000e+00  1.00000000e+00\n",
      "   0.00000000e+00 -2.27373675e-13  0.00000000e+00  1.00000000e+00\n",
      "   0.00000000e+00 -2.27373675e-13  0.00000000e+00  1.00000000e+00]]\n",
      "\n",
      "Macierz C = A * B:\n",
      "[[0.5        0.33333333 0.25       0.2       ]\n",
      " [0.33333333 0.25       0.2        0.16666667]\n",
      " [0.25       0.2        0.16666667 0.14285714]\n",
      " [0.2        0.16666667 0.14285714 0.125     ]]\n"
     ]
    }
   ],
   "source": [
    "L, U = lu_decomposition(A)\n",
    "\n",
    "# Obliczenie iloczynu A * A^-1\n",
    "A_inv = solve_systems(L, U, [np.eye(n)] * n)  # Tworzymy listę macierzy jednostkowych o rozmiarze n\n",
    "C = np.dot(A, A_inv)\n",
    "\n",
    "print(\"Iloczyn macierzy A i A^-1:\")\n",
    "print(C)\n",
    "\n",
    "# Obliczenie iloczynu C = A * B\n",
    "B = np.eye(n)  # Będziemy używać macierzy jednostkowej B\n",
    "C = np.zeros((n, n))\n",
    "\n",
    "# Obliczanie elementów macierzy C\n",
    "for i in range(n):\n",
    "    for j in range(n):\n",
    "        for k in range(n):\n",
    "            C[i][j] += A[i][k] * B[k][j]\n",
    "\n",
    "print(\"\\nMacierz C = A * B:\")\n",
    "print(C)"
   ]
  },
  {
   "cell_type": "code",
   "execution_count": 27,
   "id": "c69c0c63",
   "metadata": {},
   "outputs": [
    {
     "name": "stdout",
     "output_type": "stream",
     "text": [
      "Wskaźnik uwarunkowania macierzy A (norma 1):\n",
      "1.2833333333333332\n"
     ]
    }
   ],
   "source": [
    "# Obliczenie normy 1 macierzy A\n",
    "norm_A_1 = np.linalg.norm(A, ord=1)\n",
    "\n",
    "print(\"Wskaźnik uwarunkowania macierzy A (norma 1):\")\n",
    "print(norm_A_1)"
   ]
  },
  {
   "cell_type": "markdown",
   "id": "4a0a2af5",
   "metadata": {},
   "source": [
    "oznacza to, że macierz jest względnie dobrze uwarunkowana"
   ]
  },
  {
   "cell_type": "code",
   "execution_count": null,
   "id": "0ced57b7",
   "metadata": {},
   "outputs": [],
   "source": []
  },
  {
   "cell_type": "code",
   "execution_count": null,
   "id": "8195790b",
   "metadata": {},
   "outputs": [],
   "source": []
  }
 ],
 "metadata": {
  "kernelspec": {
   "display_name": "Python 3 (ipykernel)",
   "language": "python",
   "name": "python3"
  },
  "language_info": {
   "codemirror_mode": {
    "name": "ipython",
    "version": 3
   },
   "file_extension": ".py",
   "mimetype": "text/x-python",
   "name": "python",
   "nbconvert_exporter": "python",
   "pygments_lexer": "ipython3",
   "version": "3.12.2"
  }
 },
 "nbformat": 4,
 "nbformat_minor": 5
}
