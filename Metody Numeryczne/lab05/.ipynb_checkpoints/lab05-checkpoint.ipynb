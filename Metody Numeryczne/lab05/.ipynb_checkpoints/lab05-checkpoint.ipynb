{
 "cells": [
  {
   "cell_type": "code",
   "execution_count": 7,
   "id": "552b474e",
   "metadata": {},
   "outputs": [],
   "source": [
    "import numpy as np\n",
    "from matplotlib import pyplot as plt"
   ]
  },
  {
   "cell_type": "code",
   "execution_count": 8,
   "id": "6c84c488",
   "metadata": {},
   "outputs": [
    {
     "name": "stdout",
     "output_type": "stream",
     "text": [
      "[[ 592.   -592.      0.      0.  ]\n",
      " [ -49.33  181.   -131.67    0.  ]\n",
      " [   0.   -131.67  181.    -49.33]\n",
      " [   0.      0.   -592.    592.  ]]\n"
     ]
    }
   ],
   "source": [
    "k_CH = 592\n",
    "k_CC = 1580\n",
    "\n",
    "# masa w amu\n",
    "m_H = 1\n",
    "m_C = 12\n",
    "# amu = 1.6605*1e-27\n",
    "\n",
    "N = 4\n",
    "D = np.zeros((N,N))\n",
    "IT = 200\n",
    "\n",
    "D[1][1] = D[2][2] = (k_CC + k_CH) / m_C\n",
    "D[0][0] = D[3][3] = k_CH / m_H\n",
    "D[0][1] = D[3][2] = - k_CH / m_H\n",
    "D[1][0] = D[2][3] = - k_CH / m_C\n",
    "D[2][1] = D[1][2] = - k_CC / m_C\n",
    "\n",
    "print(np.round(D, decimals=2))"
   ]
  },
  {
   "cell_type": "markdown",
   "id": "2a41e483",
   "metadata": {},
   "source": [
    "### D = QR\n",
    "### Q – macierz ortogonalna (Q T Q = I)\n",
    "### R – macierz trójkątna górna."
   ]
  },
  {
   "cell_type": "code",
   "execution_count": null,
   "id": "17f440a4",
   "metadata": {},
   "outputs": [],
   "source": []
  },
  {
   "cell_type": "code",
   "execution_count": 10,
   "id": "0de199b9",
   "metadata": {},
   "outputs": [],
   "source": [
    "I = np.zeros((N,N))\n",
    "for i in range(0,N):\n",
    "    for j in range(0,N):\n",
    "        if i == j:\n",
    "            I[i][i] = 1\n",
    "R = D\n",
    "Q = I\n",
    "\n",
    "for _ in range(0, IT):\n",
    "    for i in range(N-1): # 0,1,2\n",
    "        x = R[:,i]\n",
    "        j = 0 \n",
    "        while j < i:\n",
    "            x[j] = 0\n",
    "            j += 1\n",
    "        e = np.zeros(N)\n",
    "        e[i] = 1\n",
    "        u = x - np.dot(np.linalg.norm(x), e)\n",
    "        v = u / np.linalg.norm(u)\n",
    "        Q_t = I - np.dot(2, np.outer(v, v))\n",
    "        Q = np.dot(Q_t, Q)\n",
    "        R = np.dot(Q_t, R)"
   ]
  },
  {
   "cell_type": "code",
   "execution_count": 18,
   "id": "d31d30ef",
   "metadata": {},
   "outputs": [
    {
     "name": "stdout",
     "output_type": "stream",
     "text": [
      "[[ 594.05    0.      0.      0.  ]\n",
      " [   0.    185.88    0.     34.94]\n",
      " [   0.      0.    593.02 -593.02]\n",
      " [   0.      0.      0.     -0.  ]]\n"
     ]
    }
   ],
   "source": [
    "print(np.round(R, 2))"
   ]
  },
  {
   "cell_type": "code",
   "execution_count": 19,
   "id": "b9d4110a",
   "metadata": {},
   "outputs": [
    {
     "name": "stdout",
     "output_type": "stream",
     "text": [
      "[[ 592.    -15.44    0.     -2.9 ]\n",
      " [  34.82  130.76 -420.06  444.64]\n",
      " [   2.05    7.71   24.58  -23.13]\n",
      " [  34.88  130.99  417.88 -393.26]]\n"
     ]
    }
   ],
   "source": [
    "np.transpose(Q)\n",
    "print(np.round(np.dot(Q, R), 2))"
   ]
  },
  {
   "cell_type": "code",
   "execution_count": null,
   "id": "e71076f8",
   "metadata": {},
   "outputs": [],
   "source": []
  },
  {
   "cell_type": "code",
   "execution_count": null,
   "id": "d447d7da",
   "metadata": {},
   "outputs": [],
   "source": []
  }
 ],
 "metadata": {
  "kernelspec": {
   "display_name": "Python 3 (ipykernel)",
   "language": "python",
   "name": "python3"
  },
  "language_info": {
   "codemirror_mode": {
    "name": "ipython",
    "version": 3
   },
   "file_extension": ".py",
   "mimetype": "text/x-python",
   "name": "python",
   "nbconvert_exporter": "python",
   "pygments_lexer": "ipython3",
   "version": "3.12.2"
  }
 },
 "nbformat": 4,
 "nbformat_minor": 5
}
