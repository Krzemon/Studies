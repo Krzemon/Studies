{
 "cells": [
  {
   "cell_type": "code",
   "execution_count": 1,
   "id": "74004dd9",
   "metadata": {},
   "outputs": [],
   "source": [
    "import numpy as np\n",
    "from matplotlib import pyplot as plt"
   ]
  },
  {
   "cell_type": "code",
   "execution_count": 2,
   "id": "18857540",
   "metadata": {},
   "outputs": [
    {
     "data": {
      "text/plain": [
       "array([[ 36.52, -12.5 ,   0.  , ...,   0.  ,   0.  ,   0.  ],\n",
       "       [-12.5 ,  35.58, -12.5 , ...,   0.  ,   0.  ,   0.  ],\n",
       "       [  0.  , -12.5 ,  34.68, ...,   0.  ,   0.  ,   0.  ],\n",
       "       ...,\n",
       "       [  0.  ,   0.  ,   0.  , ...,  34.68, -12.5 ,   0.  ],\n",
       "       [  0.  ,   0.  ,   0.  , ..., -12.5 ,  35.58, -12.5 ],\n",
       "       [  0.  ,   0.  ,   0.  , ...,   0.  , -12.5 ,  36.52]])"
      ]
     },
     "execution_count": 2,
     "metadata": {},
     "output_type": "execute_result"
    }
   ],
   "source": [
    "IT_MAX = 50 \n",
    "N = 50\n",
    "psi = np.zeros(N+1)\n",
    "L = 5\n",
    "delta_x = 2*L/N\n",
    "\n",
    "# ostatnie wartosci maja polozenie to je tu uwzgledniam\n",
    "x_values = np.zeros(N+1)\n",
    "for i in range(0,N+1):\n",
    "    x_values[i] = -L + i*delta_x\n",
    "    \n",
    "# warunek brzegowy\n",
    "psi[0] = psi[N] = 0\n",
    "\n",
    "# operator energii całkowitej nie uwzględnia brzegów\n",
    "Hamiltonian = np.zeros((N-1,N-1))\n",
    "for i in range(1, N):\n",
    "    if i == N-1:\n",
    "        break\n",
    "    Hamiltonian[i-1][i] = -1 / (2 * np.power(delta_x,2)) \n",
    "    Hamiltonian[i][i-1] = -1 / (2 * np.power(delta_x,2)) \n",
    "    \n",
    "for i in range(0, N-1):\n",
    "    Hamiltonian[i][i] = np.power(delta_x,-2) + 0.5 * np.power(x_values[i+1],2)\n",
    "    \n",
    "Hamiltonian"
   ]
  },
  {
   "cell_type": "code",
   "execution_count": 3,
   "id": "74a96d2b",
   "metadata": {},
   "outputs": [
    {
     "name": "stdout",
     "output_type": "stream",
     "text": [
      "0\n",
      "24.019999999999996\n"
     ]
    }
   ],
   "source": [
    "gersz = np.zeros(N-1)\n",
    "for i in range(0,N-1):\n",
    "    for j in range(0,N-1):\n",
    "        gersz[i] += Hamiltonian[i][j]\n",
    "\n",
    "# max value index\n",
    "gorin = np.argmax(gersz)\n",
    "max_value = np.max(gersz)\n",
    "print(gorin)\n",
    "print(max_value) # szukamy w przedziale [-max_value, max_value]"
   ]
  },
  {
   "cell_type": "code",
   "execution_count": 16,
   "id": "75c8f196",
   "metadata": {},
   "outputs": [
    {
     "data": {
      "text/plain": [
       "24.019999999999975"
      ]
     },
     "execution_count": 16,
     "metadata": {},
     "output_type": "execute_result"
    }
   ],
   "source": [
    "# zwraca liczbę zmiany znaku \n",
    "def permut(H, k, lamb):\n",
    "    p_values = np.zeros(N-2)\n",
    "    p_values[0] = 1\n",
    "    p_values[1] = H[0][0] - lamb\n",
    "    n = 0\n",
    "    for i in range(2, N-2):\n",
    "        p_values[i] = H[i][i] * p_values[i-1] + np.power(H[i][i-1],2) * p_values[i-2]\n",
    "    \n",
    "    for p in range(0,N-3):\n",
    "        if (p_values[p] < 0 and p_values[p+1] > 0) or (p_values[p] > 0 and p_values[p+1] < 0):\n",
    "            n += 1\n",
    "        else:\n",
    "            continue\n",
    "    return n\n",
    "\n",
    "def bisekcja(H):\n",
    "    curr = 0\n",
    "    a = -max_value\n",
    "    b = max_value\n",
    "    lambda_j = 0\n",
    "    while curr < IT_MAX:\n",
    "        n = permut(H, curr, lambda_j)\n",
    "        if n < 2:\n",
    "            a = lambda_j\n",
    "        else:\n",
    "            b = lambda_j\n",
    "        lambda_j = (a + b) / 2\n",
    "        curr += 1\n",
    "    return lambda_j\n",
    "\n",
    "lamb = bisekcja(Hamiltonian)\n",
    "lamb"
   ]
  },
  {
   "cell_type": "code",
   "execution_count": null,
   "id": "dcb6eabd",
   "metadata": {},
   "outputs": [],
   "source": []
  },
  {
   "cell_type": "code",
   "execution_count": 17,
   "id": "a95eed87",
   "metadata": {},
   "outputs": [
    {
     "data": {
      "text/plain": [
       "Text(0.5, 0, 'X [j.a.]')"
      ]
     },
     "execution_count": 17,
     "metadata": {},
     "output_type": "execute_result"
    },
    {
     "data": {
      "image/png": "[encoded data removed]",
      "text/plain": [
       "<Figure size 640x480 with 1 Axes>"
      ]
     },
     "metadata": {},
     "output_type": "display_data"
    }
   ],
   "source": [
    "psi \n",
    "plt.figure()\n",
    "plt.plot(psi, label='psi')\n",
    "plt.legend()\n",
    "plt.xlabel('X [j.a.]')"
   ]
  },
  {
   "cell_type": "code",
   "execution_count": 18,
   "id": "288947c6",
   "metadata": {},
   "outputs": [
    {
     "ename": "NameError",
     "evalue": "name 'H' is not defined",
     "output_type": "error",
     "traceback": [
      "\u001b[0;31m---------------------------------------------------------------------------\u001b[0m",
      "\u001b[0;31mNameError\u001b[0m                                 Traceback (most recent call last)",
      "Cell \u001b[0;32mIn[18], line 3\u001b[0m\n\u001b[1;32m      1\u001b[0m \u001b[38;5;28;01mfrom\u001b[39;00m \u001b[38;5;21;01mscipy\u001b[39;00m\u001b[38;5;21;01m.\u001b[39;00m\u001b[38;5;21;01mlinalg\u001b[39;00m \u001b[38;5;28;01mimport\u001b[39;00m eigh\n\u001b[1;32m      2\u001b[0m \u001b[38;5;66;03m# Rozwiązanie układu równań własnych Hc = EcS\u001b[39;00m\n\u001b[0;32m----> 3\u001b[0m energies, eigenvectors \u001b[38;5;241m=\u001b[39m eigh(\u001b[43mH\u001b[49m, S)\n\u001b[1;32m      5\u001b[0m wektor\u001b[38;5;241m=\u001b[39mnp\u001b[38;5;241m.\u001b[39mzeros((NN\u001b[38;5;241m+\u001b[39m\u001b[38;5;241m1\u001b[39m)\u001b[38;5;241m*\u001b[39m\u001b[38;5;241m*\u001b[39m\u001b[38;5;241m2\u001b[39m)\n\u001b[1;32m      6\u001b[0m \u001b[38;5;28;01mfor\u001b[39;00m i \u001b[38;5;129;01min\u001b[39;00m \u001b[38;5;28mrange\u001b[39m(\u001b[38;5;241m0\u001b[39m, (NN\u001b[38;5;241m+\u001b[39m\u001b[38;5;241m1\u001b[39m)\u001b[38;5;241m*\u001b[39m\u001b[38;5;241m*\u001b[39m\u001b[38;5;241m2\u001b[39m):\n",
      "\u001b[0;31mNameError\u001b[0m: name 'H' is not defined"
     ]
    }
   ],
   "source": [
    "from scipy.linalg import eigh\n",
    "# Rozwiązanie układu równań własnych Hc = EcS\n",
    "S = np.zeros((N-1,N-1))\n",
    "for i in range(0,N-1):\n",
    "    S[i][i] = 1\n",
    "        \n",
    "energies, eigenvectors = eigh(Hamiltonian, S)\n",
    "\n",
    "for i in range(0, N+1):\n",
    "    psi[i]=eigenvectors[i][((NN+1)**2-1)-(NN-1)**2+4]\n",
    "\n",
    "print(\"Energia własna:\", energies)\n",
    "print(\"Wektory własne:\")\n",
    "print(eigenvectors)"
   ]
  },
  {
   "cell_type": "code",
   "execution_count": null,
   "id": "e8557423",
   "metadata": {},
   "outputs": [],
   "source": []
  }
 ],
 "metadata": {
  "kernelspec": {
   "display_name": "Python 3 (ipykernel)",
   "language": "python",
   "name": "python3"
  },
  "language_info": {
   "codemirror_mode": {
    "name": "ipython",
    "version": 3
   },
   "file_extension": ".py",
   "mimetype": "text/x-python",
   "name": "python",
   "nbconvert_exporter": "python",
   "pygments_lexer": "ipython3",
   "version": "3.12.2"
  }
 },
 "nbformat": 4,
 "nbformat_minor": 5
}
