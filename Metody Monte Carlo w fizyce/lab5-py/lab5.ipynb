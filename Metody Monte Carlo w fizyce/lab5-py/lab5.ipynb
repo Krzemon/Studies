{
 "cells": [
  {
   "cell_type": "code",
   "execution_count": 1,
   "id": "b8434a5b",
   "metadata": {},
   "outputs": [],
   "source": [
    "import pandas as pd\n",
    "import numpy as np\n",
    "import matplotlib.pyplot as plt\n",
    "import seaborn as sns\n",
    "\n",
    "sns.set()"
   ]
  },
  {
   "cell_type": "code",
   "execution_count": 2,
   "id": "01f0d725",
   "metadata": {},
   "outputs": [],
   "source": [
    "def f1(x):\n",
    "    value1 = (1+np.tanh(x))\n",
    "    return value1\n",
    "    \n",
    "def f2(x):\n",
    "    value2 = 1/(1+np.power(x,2))\n",
    "    return value2\n",
    "    \n",
    "def f3(x):\n",
    "    value3 = np.power(np.cos(x*np.pi),10)    \n",
    "    return value3"
   ]
  },
  {
   "cell_type": "code",
   "execution_count": 3,
   "id": "256797f3",
   "metadata": {},
   "outputs": [
    {
     "name": "stdout",
     "output_type": "stream",
     "text": [
      "Metoda podstawowa\n",
      "Mean:  [5.4909987  5.64377262 6.02478501 5.98753509]\n",
      "Standard deviation:  [0.48958609 0.15344114 0.04902853 0.01551016]\n",
      "Error:  [8.91615745 2.71876901 0.81378066 0.25904083]\n"
     ]
    }
   ],
   "source": [
    "# Metoda podstawowa:\n",
    "a = -3\n",
    "b = 3\n",
    "Nlist = [100, 1000, 10000, 100000]\n",
    "N = 100000\n",
    "\n",
    "x_sum_basic = 0.0\n",
    "x2_sum_basic = 0.0\n",
    "\n",
    "mean_value_basic_list = []\n",
    "SD_basic_list = []\n",
    "\n",
    "for i in range(1, N+1):    \n",
    "    Ui =  np.random.uniform(0,1)\n",
    "    xi = a + (b-a)*Ui\n",
    "    s1 = (b-a)*(f1(xi))\n",
    "    s2 = np.power((b-a)*f1(xi), 2)\n",
    "    x_sum_basic += s1\n",
    "    x2_sum_basic += s2    \n",
    "    if i in Nlist:\n",
    "        mean = x_sum_basic/i\n",
    "        mean2 = x2_sum_basic/i\n",
    "        var_m = (mean2 - np.power(mean, 2))/i\n",
    "        sd = np.sqrt(var_m)\n",
    "        mean_value_basic_list.append(mean)\n",
    "        SD_basic_list.append(sd)\n",
    "mean_value_basic_list = np.array(mean_value_basic_list)\n",
    "SD_basic_list = np.array(SD_basic_list)    \n",
    "R_basic = SD_basic_list/mean_value_basic_list*100\n",
    "print(\"Metoda podstawowa\")\n",
    "print(\"Mean: \", mean_value_basic_list)\n",
    "print(\"Standard deviation: \", SD_basic_list)\n",
    "print(\"Error: \", R_basic)\n"
   ]
  },
  {
   "cell_type": "code",
   "execution_count": 4,
   "id": "b9d0f79d",
   "metadata": {},
   "outputs": [
    {
     "name": "stdout",
     "output_type": "stream",
     "text": [
      "Losowanie systematyczne\n",
      "Mean:  [6.0092374  5.99728919 6.00055707 6.00020532]\n",
      "Standard deviation:  [0.04271242 0.01559238 0.00490983 0.00153579]\n",
      "Error:  [0.71077945 0.25999039 0.08182293 0.02559562]\n"
     ]
    }
   ],
   "source": [
    "# Losowanie systematyczne:\n",
    "M = 10\n",
    "pm = 1/M\n",
    "dx = (b-a)/M\n",
    "division = np.arange(a, b+dx, dx)\n",
    "\n",
    "Clist = []\n",
    "Vlist = []\n",
    "\n",
    "for n in Nlist:\n",
    "    mean_value_sys_list = []\n",
    "    var_sys_list = []\n",
    "    for m in range(0, M):\n",
    "        x_sum_sys = 0.0\n",
    "        x2_sum_sys = 0.0    \n",
    "        am = division[m]\n",
    "        bm = division[m+1]\n",
    "        Nm = int(pm*n)    \n",
    "        for i in range(1, Nm+1):\n",
    "            Ui = np.random.uniform(0,1)\n",
    "            xi = am + (bm-am)*Ui        \n",
    "            s1 = (b-a)*(f1(xi))\n",
    "            s2 = np.power((b-a)*f1(xi), 2)\n",
    "            x_sum_sys += s1\n",
    "            x2_sum_sys += s2                \n",
    "        mean = x_sum_sys/Nm \n",
    "        mean2 = x2_sum_sys/Nm \n",
    "        var = (mean2 - np.power(mean, 2))\n",
    "        mean_value_sys_list.append(mean)\n",
    "        var_sys_list.append(var)\n",
    "    mean_value_sys_list = np.array(mean_value_sys_list)\n",
    "    var_sys_list = np.array(var_sys_list)\n",
    "    C = mean_value_sys_list.sum()*pm\n",
    "    Clist.append(C)\n",
    "    V = var_sys_list.sum()*pm/n\n",
    "    Vlist.append(V)\n",
    "Clist = np.array(Clist)\n",
    "Vlist = np.array(Vlist)\n",
    "R_sys = np.sqrt(Vlist)/Clist*100\n",
    "print(\"Losowanie systematyczne\")\n",
    "print(\"Mean: \", Clist)\n",
    "print(\"Standard deviation: \", np.sqrt(Vlist))\n",
    "print(\"Error: \", R_sys)"
   ]
  },
  {
   "cell_type": "code",
   "execution_count": null,
   "id": "e9af89c9",
   "metadata": {},
   "outputs": [],
   "source": []
  }
 ],
 "metadata": {
  "kernelspec": {
   "display_name": "Python 3 (ipykernel)",
   "language": "python",
   "name": "python3"
  },
  "language_info": {
   "codemirror_mode": {
    "name": "ipython",
    "version": 3
   },
   "file_extension": ".py",
   "mimetype": "text/x-python",
   "name": "python",
   "nbconvert_exporter": "python",
   "pygments_lexer": "ipython3",
   "version": "3.12.2"
  }
 },
 "nbformat": 4,
 "nbformat_minor": 5
}
